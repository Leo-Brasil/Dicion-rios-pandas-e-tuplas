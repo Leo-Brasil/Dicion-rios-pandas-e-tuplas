{
 "cells": [
  {
   "cell_type": "code",
   "execution_count": 1,
   "metadata": {},
   "outputs": [],
   "source": [
    "import pandas as pd\n",
    "import numpy as np"
   ]
  },
  {
   "cell_type": "markdown",
   "metadata": {},
   "source": [
    "### Criando tuplas"
   ]
  },
  {
   "cell_type": "code",
   "execution_count": 2,
   "metadata": {},
   "outputs": [
    {
     "data": {
      "text/plain": [
       "()"
      ]
     },
     "execution_count": 2,
     "metadata": {},
     "output_type": "execute_result"
    }
   ],
   "source": [
    "# Apenas os parenteses\n",
    "()"
   ]
  },
  {
   "cell_type": "code",
   "execution_count": 3,
   "metadata": {},
   "outputs": [
    {
     "data": {
      "text/plain": [
       "(1, 2, 3)"
      ]
     },
     "execution_count": 3,
     "metadata": {},
     "output_type": "execute_result"
    }
   ],
   "source": [
    "# Apenas com numeros separados por virgula a direita\n",
    "1, 2, 3"
   ]
  },
  {
   "cell_type": "code",
   "execution_count": 4,
   "metadata": {},
   "outputs": [
    {
     "data": {
      "text/plain": [
       "('Passat', 'DS5')"
      ]
     },
     "execution_count": 4,
     "metadata": {},
     "output_type": "execute_result"
    }
   ],
   "source": [
    "# Passando uma variavel com mais de um item dentro, usando a função tuple()\n",
    "\n",
    "nome = 'Passat', 'DS5'\n",
    "tuple(nome)"
   ]
  },
  {
   "cell_type": "code",
   "execution_count": 5,
   "metadata": {},
   "outputs": [
    {
     "data": {
      "text/plain": [
       "('Passsat', 150000)"
      ]
     },
     "execution_count": 5,
     "metadata": {},
     "output_type": "execute_result"
    }
   ],
   "source": [
    "# Quando criamos as variaveis, não precisamos passar com a função tuple()\n",
    "\n",
    "nomes = 'Passsat'\n",
    "valores = 150000\n",
    "(nomes, valores)"
   ]
  },
  {
   "cell_type": "code",
   "execution_count": 6,
   "metadata": {},
   "outputs": [
    {
     "data": {
      "text/plain": [
       "('Passat', 'Jetta Variant', 'Fusca', 'Kombi')"
      ]
     },
     "execution_count": 6,
     "metadata": {},
     "output_type": "execute_result"
    }
   ],
   "source": [
    "# Apenas com tuple\n",
    "\n",
    "nomes_carros = tuple(['Passat', 'Jetta Variant', 'Fusca', 'Kombi'])\n",
    "nomes_carros"
   ]
  },
  {
   "cell_type": "code",
   "execution_count": 7,
   "metadata": {},
   "outputs": [
    {
     "data": {
      "text/plain": [
       "tuple"
      ]
     },
     "execution_count": 7,
     "metadata": {},
     "output_type": "execute_result"
    }
   ],
   "source": [
    "# Tipo de dados da variavel \n",
    "type(nomes_carros)"
   ]
  },
  {
   "cell_type": "markdown",
   "metadata": {},
   "source": [
    "### Seleção de valores dentro das tuplas"
   ]
  },
  {
   "cell_type": "code",
   "execution_count": 8,
   "metadata": {},
   "outputs": [
    {
     "data": {
      "text/plain": [
       "('Jetta Variant', 'Passat', 'Crossfox', 'DS5')"
      ]
     },
     "execution_count": 8,
     "metadata": {},
     "output_type": "execute_result"
    }
   ],
   "source": [
    "nomes_carros = tuple(['Jetta Variant', 'Passat', 'Crossfox', 'DS5'])\n",
    "nomes_carros"
   ]
  },
  {
   "cell_type": "code",
   "execution_count": 9,
   "metadata": {},
   "outputs": [
    {
     "data": {
      "text/plain": [
       "'Jetta Variant'"
      ]
     },
     "execution_count": 9,
     "metadata": {},
     "output_type": "execute_result"
    }
   ],
   "source": [
    "# Ele segue a mesma linha  que os array numpy e as listas\n",
    "nomes_carros[0]"
   ]
  },
  {
   "cell_type": "code",
   "execution_count": 10,
   "metadata": {},
   "outputs": [
    {
     "data": {
      "text/plain": [
       "('Jetta Variant', 'Passat', 'Crossfox')"
      ]
     },
     "execution_count": 10,
     "metadata": {},
     "output_type": "execute_result"
    }
   ],
   "source": [
    "# Podemos fazer slices tbm aqui nas tuplas\n",
    "\n",
    "nomes_carros[:3]"
   ]
  },
  {
   "cell_type": "code",
   "execution_count": 11,
   "metadata": {},
   "outputs": [
    {
     "data": {
      "text/plain": [
       "('Passat', 'Crossfox')"
      ]
     },
     "execution_count": 11,
     "metadata": {},
     "output_type": "execute_result"
    }
   ],
   "source": [
    "nomes_carros[1:3]"
   ]
  },
  {
   "cell_type": "code",
   "execution_count": 12,
   "metadata": {},
   "outputs": [
    {
     "data": {
      "text/plain": [
       "('Crossfox', 'DS5')"
      ]
     },
     "execution_count": 12,
     "metadata": {},
     "output_type": "execute_result"
    }
   ],
   "source": [
    "nomes_carros[2:]"
   ]
  },
  {
   "cell_type": "code",
   "execution_count": 13,
   "metadata": {},
   "outputs": [
    {
     "data": {
      "text/plain": [
       "('Jetta Variant', 'Passat', 'Crossfox', 'DS5', ('Fusca', 'Gol', 'C4'))"
      ]
     },
     "execution_count": 13,
     "metadata": {},
     "output_type": "execute_result"
    }
   ],
   "source": [
    "# Pegando o item dentro de uma tupla dentro de outra tupla\n",
    "nomes_carros_2 = ('Jetta Variant', 'Passat', 'Crossfox', 'DS5', ('Fusca', 'Gol', 'C4'))\n",
    "nomes_carros_2"
   ]
  },
  {
   "cell_type": "code",
   "execution_count": 14,
   "metadata": {},
   "outputs": [
    {
     "data": {
      "text/plain": [
       "'Gol'"
      ]
     },
     "execution_count": 14,
     "metadata": {},
     "output_type": "execute_result"
    }
   ],
   "source": [
    "nomes_carros_2[-1][1]"
   ]
  },
  {
   "cell_type": "markdown",
   "metadata": {},
   "source": [
    "### Iterador de tuplas"
   ]
  },
  {
   "cell_type": "code",
   "execution_count": 15,
   "metadata": {},
   "outputs": [
    {
     "data": {
      "text/plain": [
       "('Jetta Variant', 'Passat', 'Crossfox', 'DS5')"
      ]
     },
     "execution_count": 15,
     "metadata": {},
     "output_type": "execute_result"
    }
   ],
   "source": [
    "nomes_carros"
   ]
  },
  {
   "cell_type": "code",
   "execution_count": 16,
   "metadata": {},
   "outputs": [
    {
     "name": "stdout",
     "output_type": "stream",
     "text": [
      "Jetta Variant\n",
      "Passat\n",
      "Crossfox\n",
      "DS5\n"
     ]
    }
   ],
   "source": [
    "for item in nomes_carros:\n",
    "    print(item)"
   ]
  },
  {
   "cell_type": "code",
   "execution_count": 17,
   "metadata": {},
   "outputs": [],
   "source": [
    "# Desempacotamento da tupla\n",
    "carro_1, carro_2, carro_3, carro_4 = nomes_carros"
   ]
  },
  {
   "cell_type": "code",
   "execution_count": 18,
   "metadata": {},
   "outputs": [
    {
     "data": {
      "text/plain": [
       "'Jetta Variant'"
      ]
     },
     "execution_count": 18,
     "metadata": {},
     "output_type": "execute_result"
    }
   ],
   "source": [
    "carro_1"
   ]
  },
  {
   "cell_type": "code",
   "execution_count": 19,
   "metadata": {},
   "outputs": [
    {
     "data": {
      "text/plain": [
       "'Passat'"
      ]
     },
     "execution_count": 19,
     "metadata": {},
     "output_type": "execute_result"
    }
   ],
   "source": [
    "carro_2"
   ]
  },
  {
   "cell_type": "code",
   "execution_count": 20,
   "metadata": {},
   "outputs": [
    {
     "data": {
      "text/plain": [
       "('Jetta Variant', 'Passat', 'Crossfox', 'DS5')"
      ]
     },
     "execution_count": 20,
     "metadata": {},
     "output_type": "execute_result"
    }
   ],
   "source": [
    "# Podemos atribuir apenas duas variaveis \n",
    "nomes_carros"
   ]
  },
  {
   "cell_type": "code",
   "execution_count": 21,
   "metadata": {},
   "outputs": [],
   "source": [
    "_,A,_,B = nomes_carros"
   ]
  },
  {
   "cell_type": "code",
   "execution_count": 22,
   "metadata": {},
   "outputs": [
    {
     "data": {
      "text/plain": [
       "'Passat'"
      ]
     },
     "execution_count": 22,
     "metadata": {},
     "output_type": "execute_result"
    }
   ],
   "source": [
    "A"
   ]
  },
  {
   "cell_type": "code",
   "execution_count": 23,
   "metadata": {},
   "outputs": [
    {
     "data": {
      "text/plain": [
       "'DS5'"
      ]
     },
     "execution_count": 23,
     "metadata": {},
     "output_type": "execute_result"
    }
   ],
   "source": [
    "B"
   ]
  },
  {
   "cell_type": "code",
   "execution_count": 24,
   "metadata": {},
   "outputs": [
    {
     "data": {
      "text/plain": [
       "('Jetta Variant', 'Passat', 'Crossfox', 'DS5')"
      ]
     },
     "execution_count": 24,
     "metadata": {},
     "output_type": "execute_result"
    }
   ],
   "source": [
    "# Podemos atribuir apenas uma variavel\n",
    "nomes_carros"
   ]
  },
  {
   "cell_type": "code",
   "execution_count": 25,
   "metadata": {},
   "outputs": [],
   "source": [
    "# Esse *_ é uma dica para não precisar ficar colocando underline em todas os itens dentro da tupla\n",
    "_,C,*_ = nomes_carros"
   ]
  },
  {
   "cell_type": "code",
   "execution_count": 26,
   "metadata": {},
   "outputs": [
    {
     "data": {
      "text/plain": [
       "'Passat'"
      ]
     },
     "execution_count": 26,
     "metadata": {},
     "output_type": "execute_result"
    }
   ],
   "source": [
    "C"
   ]
  },
  {
   "cell_type": "code",
   "execution_count": 27,
   "metadata": {},
   "outputs": [
    {
     "data": {
      "text/plain": [
       "['Jetta Variant', 'Passat', 'Crossfox', 'DS5']"
      ]
     },
     "execution_count": 27,
     "metadata": {},
     "output_type": "execute_result"
    }
   ],
   "source": [
    "# Podemos fazer isso tudo com a função zip()\n",
    "\n",
    "carros = ['Jetta Variant', 'Passat', 'Crossfox', 'DS5']\n",
    "carros"
   ]
  },
  {
   "cell_type": "code",
   "execution_count": 28,
   "metadata": {},
   "outputs": [
    {
     "data": {
      "text/plain": [
       "[88078.64, 106161.94, 72832.16, 124549.07]"
      ]
     },
     "execution_count": 28,
     "metadata": {},
     "output_type": "execute_result"
    }
   ],
   "source": [
    "valores = [88078.64, 106161.94, 72832.16, 124549.07]\n",
    "valores"
   ]
  },
  {
   "cell_type": "code",
   "execution_count": 29,
   "metadata": {},
   "outputs": [
    {
     "data": {
      "text/plain": [
       "<zip at 0x234bcfc1340>"
      ]
     },
     "execution_count": 29,
     "metadata": {},
     "output_type": "execute_result"
    }
   ],
   "source": [
    "# Quando aparece esse at ... quer dizer que a zip foi criada com sucesso\n",
    "zip(carros,valores)"
   ]
  },
  {
   "cell_type": "code",
   "execution_count": 30,
   "metadata": {},
   "outputs": [
    {
     "data": {
      "text/plain": [
       "[('Jetta Variant', 88078.64),\n",
       " ('Passat', 106161.94),\n",
       " ('Crossfox', 72832.16),\n",
       " ('DS5', 124549.07)]"
      ]
     },
     "execution_count": 30,
     "metadata": {},
     "output_type": "execute_result"
    }
   ],
   "source": [
    "# Caso eu queira visualizar minha zip, podemos atribui junto com a list ()\n",
    "list(zip(carros,valores))"
   ]
  },
  {
   "cell_type": "code",
   "execution_count": 31,
   "metadata": {},
   "outputs": [
    {
     "name": "stdout",
     "output_type": "stream",
     "text": [
      "('Jetta Variant', 88078.64)\n",
      "('Passat', 106161.94)\n",
      "('Crossfox', 72832.16)\n",
      "('DS5', 124549.07)\n"
     ]
    }
   ],
   "source": [
    "# Com a zip podemos criar varios caminhos, como por exemplo fazer uma iteração para saber os carros >10000\n",
    "for item in zip(carros,valores):\n",
    "    print(item)"
   ]
  },
  {
   "cell_type": "code",
   "execution_count": 32,
   "metadata": {},
   "outputs": [
    {
     "name": "stdout",
     "output_type": "stream",
     "text": [
      "Jetta Variant 88078.64\n",
      "Passat 106161.94\n",
      "Crossfox 72832.16\n",
      "DS5 124549.07\n"
     ]
    }
   ],
   "source": [
    "for carro, valor in zip(carros,valores):\n",
    "    print (carro, valor)"
   ]
  },
  {
   "cell_type": "code",
   "execution_count": 33,
   "metadata": {},
   "outputs": [
    {
     "name": "stdout",
     "output_type": "stream",
     "text": [
      "Passat\n",
      "DS5\n"
     ]
    }
   ],
   "source": [
    "for carro, valor in zip(carros,valores):\n",
    "    if(valor>100000):\n",
    "        print(carro)"
   ]
  },
  {
   "cell_type": "markdown",
   "metadata": {},
   "source": [
    "### Criando dicionarios"
   ]
  },
  {
   "cell_type": "code",
   "execution_count": 34,
   "metadata": {},
   "outputs": [
    {
     "data": {
      "text/plain": [
       "['Jetta Variant', 'Passat', 'Crossfox']"
      ]
     },
     "execution_count": 34,
     "metadata": {},
     "output_type": "execute_result"
    }
   ],
   "source": [
    "carros = ['Jetta Variant', 'Passat', 'Crossfox']\n",
    "carros"
   ]
  },
  {
   "cell_type": "code",
   "execution_count": 35,
   "metadata": {},
   "outputs": [
    {
     "data": {
      "text/plain": [
       "[88078.64, 106161.94, 72832.16]"
      ]
     },
     "execution_count": 35,
     "metadata": {},
     "output_type": "execute_result"
    }
   ],
   "source": [
    "valores = [88078.64, 106161.94, 72832.16]\n",
    "valores"
   ]
  },
  {
   "cell_type": "code",
   "execution_count": 36,
   "metadata": {},
   "outputs": [
    {
     "data": {
      "text/plain": [
       "'Jetta Variant'"
      ]
     },
     "execution_count": 36,
     "metadata": {},
     "output_type": "execute_result"
    }
   ],
   "source": [
    "# Para acessar essas listas usamos apenas um index\n",
    "carros[0]"
   ]
  },
  {
   "cell_type": "code",
   "execution_count": 37,
   "metadata": {},
   "outputs": [
    {
     "data": {
      "text/plain": [
       "106161.94"
      ]
     },
     "execution_count": 37,
     "metadata": {},
     "output_type": "execute_result"
    }
   ],
   "source": [
    "valores[1]"
   ]
  },
  {
   "cell_type": "code",
   "execution_count": 38,
   "metadata": {},
   "outputs": [
    {
     "data": {
      "text/plain": [
       "1"
      ]
     },
     "execution_count": 38,
     "metadata": {},
     "output_type": "execute_result"
    }
   ],
   "source": [
    "'''Para acessar o valor do carro precisariamos saber o index dele, pois aqui nesse exemplo é pequeno, mas se fosse uma lista\n",
    "com muitos elementos dentro, teriamos um pouco mais de dificuldade'''\n",
    "carros.index('Passat')"
   ]
  },
  {
   "cell_type": "code",
   "execution_count": 39,
   "metadata": {},
   "outputs": [
    {
     "data": {
      "text/plain": [
       "106161.94"
      ]
     },
     "execution_count": 39,
     "metadata": {},
     "output_type": "execute_result"
    }
   ],
   "source": [
    "valores[carros.index('Passat')]"
   ]
  },
  {
   "cell_type": "code",
   "execution_count": 40,
   "metadata": {},
   "outputs": [
    {
     "data": {
      "text/plain": [
       "{'Jetta Variant': 88078.64, 'Passat': 106161.94, 'Crossfox': 72832.16}"
      ]
     },
     "execution_count": 40,
     "metadata": {},
     "output_type": "execute_result"
    }
   ],
   "source": [
    "# Temos que fazer dois passos para ter o valor do Passat, com dicionários os valores já ficam juntos as chaves\n",
    "\n",
    "dados = {'Jetta Variant': 88078.64, 'Passat': 106161.94, 'Crossfox': 72832.16}\n",
    "dados"
   ]
  },
  {
   "cell_type": "code",
   "execution_count": 41,
   "metadata": {},
   "outputs": [
    {
     "data": {
      "text/plain": [
       "{'Jetta Variant': 88078.64, 'Passat': 106161.94, 'Crossfox': 72832.16}"
      ]
     },
     "execution_count": 41,
     "metadata": {},
     "output_type": "execute_result"
    }
   ],
   "source": [
    "# Outra forma de criarmos o dicionário, uma forma mais simples\n",
    "dados = dict(zip(carros, valores))\n",
    "dados"
   ]
  },
  {
   "cell_type": "code",
   "execution_count": 42,
   "metadata": {},
   "outputs": [],
   "source": [
    "# Passando outra fonte de dados para exemplificar mais uma vez\n",
    "nomes = ['Passat', 'Crossfox', 'DS5', 'C4', 'Jetta']\n",
    "kms = [15000, 12000, 32000, 8000, 50000]"
   ]
  },
  {
   "cell_type": "code",
   "execution_count": 43,
   "metadata": {},
   "outputs": [
    {
     "data": {
      "text/plain": [
       "{'Passat': 15000, 'Crossfox': 12000, 'DS5': 32000, 'C4': 8000, 'Jetta': 50000}"
      ]
     },
     "execution_count": 43,
     "metadata": {},
     "output_type": "execute_result"
    }
   ],
   "source": [
    "dados_3 = dict(zip(nomes,kms))\n",
    "dados_3"
   ]
  },
  {
   "cell_type": "markdown",
   "metadata": {},
   "source": [
    "### Operações com dicionários"
   ]
  },
  {
   "cell_type": "code",
   "execution_count": 44,
   "metadata": {},
   "outputs": [
    {
     "data": {
      "text/plain": [
       "{'Jetta Variant': 88078.64, 'Passat': 106161.94, 'Crossfox': 72832.16}"
      ]
     },
     "execution_count": 44,
     "metadata": {},
     "output_type": "execute_result"
    }
   ],
   "source": [
    "# Criamos um dicionario\n",
    "dados = {'Jetta Variant': 88078.64, 'Passat': 106161.94, 'Crossfox': 72832.16}\n",
    "dados"
   ]
  },
  {
   "cell_type": "code",
   "execution_count": 45,
   "metadata": {},
   "outputs": [
    {
     "data": {
      "text/plain": [
       "True"
      ]
     },
     "execution_count": 45,
     "metadata": {},
     "output_type": "execute_result"
    }
   ],
   "source": [
    "# Verificando se estão no nosso dicionario\n",
    "'Passat' in dados"
   ]
  },
  {
   "cell_type": "code",
   "execution_count": 46,
   "metadata": {},
   "outputs": [
    {
     "data": {
      "text/plain": [
       "False"
      ]
     },
     "execution_count": 46,
     "metadata": {},
     "output_type": "execute_result"
    }
   ],
   "source": [
    "'Fusca' in dados"
   ]
  },
  {
   "cell_type": "code",
   "execution_count": 47,
   "metadata": {},
   "outputs": [
    {
     "data": {
      "text/plain": [
       "True"
      ]
     },
     "execution_count": 47,
     "metadata": {},
     "output_type": "execute_result"
    }
   ],
   "source": [
    "'Fusca' not in dados"
   ]
  },
  {
   "cell_type": "code",
   "execution_count": 48,
   "metadata": {},
   "outputs": [
    {
     "data": {
      "text/plain": [
       "106161.94"
      ]
     },
     "execution_count": 48,
     "metadata": {},
     "output_type": "execute_result"
    }
   ],
   "source": [
    "# Acessando valor pela chave\n",
    "dados['Passat']"
   ]
  },
  {
   "cell_type": "code",
   "execution_count": 49,
   "metadata": {},
   "outputs": [
    {
     "data": {
      "text/plain": [
       "3"
      ]
     },
     "execution_count": 49,
     "metadata": {},
     "output_type": "execute_result"
    }
   ],
   "source": [
    "# Quantidade de chaves presente\n",
    "len(dados)"
   ]
  },
  {
   "cell_type": "code",
   "execution_count": 50,
   "metadata": {},
   "outputs": [],
   "source": [
    "# Incluindo mais uma chave ao nosso dicionario\n",
    "dados['DS5'] = 124549.07"
   ]
  },
  {
   "cell_type": "code",
   "execution_count": 51,
   "metadata": {},
   "outputs": [
    {
     "data": {
      "text/plain": [
       "{'Jetta Variant': 88078.64,\n",
       " 'Passat': 106161.94,\n",
       " 'Crossfox': 72832.16,\n",
       " 'DS5': 124549.07}"
      ]
     },
     "execution_count": 51,
     "metadata": {},
     "output_type": "execute_result"
    }
   ],
   "source": [
    "dados"
   ]
  },
  {
   "cell_type": "code",
   "execution_count": 52,
   "metadata": {},
   "outputs": [
    {
     "data": {
      "text/plain": [
       "{'Jetta Variant': 88078.64, 'Crossfox': 72832.16, 'DS5': 124549.07}"
      ]
     },
     "execution_count": 52,
     "metadata": {},
     "output_type": "execute_result"
    }
   ],
   "source": [
    "# Deletando uma chave no nosso dicionario\n",
    "del dados ['Passat']\n",
    "dados"
   ]
  },
  {
   "cell_type": "code",
   "execution_count": 53,
   "metadata": {},
   "outputs": [],
   "source": [
    "dados = {\n",
    "    'Passat': {\n",
    "        'ano': 2012,\n",
    "        'km': 50000,\n",
    "        'valor': 75000,\n",
    "        'acessorios': ['Airbag', 'ABS']\n",
    "    }, \n",
    "    'Crossfox': {\n",
    "        'ano': 2015,\n",
    "        'km': 35000,\n",
    "        'valor': 25000\n",
    "    }\n",
    "}"
   ]
  },
  {
   "cell_type": "code",
   "execution_count": 54,
   "metadata": {},
   "outputs": [
    {
     "data": {
      "text/plain": [
       "True"
      ]
     },
     "execution_count": 54,
     "metadata": {},
     "output_type": "execute_result"
    }
   ],
   "source": [
    "# Testar se a chave acessorios existe no dicionário de informações do carro Passat (Resposta: True)\n",
    "'acessorios' in dados ['Passat']"
   ]
  },
  {
   "cell_type": "code",
   "execution_count": 55,
   "metadata": {},
   "outputs": [
    {
     "data": {
      "text/plain": [
       "False"
      ]
     },
     "execution_count": 55,
     "metadata": {},
     "output_type": "execute_result"
    }
   ],
   "source": [
    "# Testar se a chave acessorios existe no dicionário de informações do carro Crossfox (Resposta: False)\n",
    "'acessorios' in dados['Crossfox']"
   ]
  },
  {
   "cell_type": "code",
   "execution_count": 56,
   "metadata": {},
   "outputs": [
    {
     "data": {
      "text/plain": [
       "25000"
      ]
     },
     "execution_count": 56,
     "metadata": {},
     "output_type": "execute_result"
    }
   ],
   "source": [
    "# Obter o valor do carro Crossfox (Resposta: 25000)\n",
    "dados ['Crossfox']['valor']"
   ]
  },
  {
   "cell_type": "code",
   "execution_count": 57,
   "metadata": {},
   "outputs": [
    {
     "data": {
      "text/plain": [
       "'ABS'"
      ]
     },
     "execution_count": 57,
     "metadata": {},
     "output_type": "execute_result"
    }
   ],
   "source": [
    "# Acessar o último acessório do carro Passat (Resposta: 'ABS')\n",
    "dados ['Passat']['acessorios'][-1]"
   ]
  },
  {
   "cell_type": "markdown",
   "metadata": {},
   "source": [
    "### Metodos de dicionario"
   ]
  },
  {
   "cell_type": "code",
   "execution_count": 58,
   "metadata": {},
   "outputs": [
    {
     "data": {
      "text/plain": [
       "{'Jetta Variant': 88078.64, 'Passat': 106161.94, 'Crossfox': 72832.16}"
      ]
     },
     "execution_count": 58,
     "metadata": {},
     "output_type": "execute_result"
    }
   ],
   "source": [
    "# Criando um dicionario\n",
    "dados = {'Jetta Variant': 88078.64, 'Passat': 106161.94, 'Crossfox': 72832.16}\n",
    "dados"
   ]
  },
  {
   "cell_type": "code",
   "execution_count": 59,
   "metadata": {},
   "outputs": [
    {
     "data": {
      "text/plain": [
       "{'Jetta Variant': 88078.64,\n",
       " 'Passat': 106161.94,\n",
       " 'Crossfox': 72832.16,\n",
       " 'DS5': 124549.07}"
      ]
     },
     "execution_count": 59,
     "metadata": {},
     "output_type": "execute_result"
    }
   ],
   "source": [
    "# Adicionando o DS5 ao dicionario\n",
    "dados['DS5'] = 124549.07\n",
    "dados"
   ]
  },
  {
   "cell_type": "code",
   "execution_count": 60,
   "metadata": {},
   "outputs": [
    {
     "data": {
      "text/plain": [
       "{'Jetta Variant': 88078.64, 'Crossfox': 72832.16, 'DS5': 124549.07}"
      ]
     },
     "execution_count": 60,
     "metadata": {},
     "output_type": "execute_result"
    }
   ],
   "source": [
    "# Deletando o Passat\n",
    "del dados['Passat']\n",
    "dados"
   ]
  },
  {
   "cell_type": "code",
   "execution_count": 61,
   "metadata": {},
   "outputs": [
    {
     "data": {
      "text/plain": [
       "{'Jetta Variant': 88078.64,\n",
       " 'Crossfox': 72832.16,\n",
       " 'DS5': 124549.07,\n",
       " 'Passat': 106161.94}"
      ]
     },
     "execution_count": 61,
     "metadata": {},
     "output_type": "execute_result"
    }
   ],
   "source": [
    "# Fazendo um update, adicionando o passat\n",
    "dados.update({'Passat': 106161.94})\n",
    "dados"
   ]
  },
  {
   "cell_type": "code",
   "execution_count": 62,
   "metadata": {},
   "outputs": [
    {
     "data": {
      "text/plain": [
       "{'Jetta Variant': 88078.64,\n",
       " 'Crossfox': 72832.16,\n",
       " 'DS5': 124549.07,\n",
       " 'Passat': 106161.95,\n",
       " 'Fusca': 15000.0}"
      ]
     },
     "execution_count": 62,
     "metadata": {},
     "output_type": "execute_result"
    }
   ],
   "source": [
    "# Fazendo update para atualizar item no dicionario\n",
    "dados.update({'Passat':106161.95, 'Fusca': 15000.00})\n",
    "dados"
   ]
  },
  {
   "cell_type": "code",
   "execution_count": 63,
   "metadata": {},
   "outputs": [
    {
     "data": {
      "text/plain": [
       "{'Jetta Variant': 88078.64,\n",
       " 'Crossfox': 72832.16,\n",
       " 'DS5': 124549.07,\n",
       " 'Passat': 106161.95}"
      ]
     },
     "execution_count": 63,
     "metadata": {},
     "output_type": "execute_result"
    }
   ],
   "source": [
    "# Fazendo uma exclusão de uma chave\n",
    "dados.pop('Fusca')\n",
    "dados"
   ]
  },
  {
   "cell_type": "code",
   "execution_count": 64,
   "metadata": {},
   "outputs": [
    {
     "data": {
      "text/plain": [
       "{'Jetta Variant': 88078.64,\n",
       " 'Crossfox': 72832.16,\n",
       " 'DS5': 124549.07,\n",
       " 'Passat': 106161.95}"
      ]
     },
     "execution_count": 64,
     "metadata": {},
     "output_type": "execute_result"
    }
   ],
   "source": [
    "# Fazendo copia sem ligação com o dados\n",
    "dados_copiado = dados.copy()\n",
    "dados_copiado"
   ]
  },
  {
   "cell_type": "code",
   "execution_count": 65,
   "metadata": {},
   "outputs": [
    {
     "data": {
      "text/plain": [
       "{'Jetta Variant': 88078.64,\n",
       " 'Crossfox': 72832.16,\n",
       " 'DS5': 124549.07,\n",
       " 'Passat': 106161.95,\n",
       " 'Fusca': 15000.0}"
      ]
     },
     "execution_count": 65,
     "metadata": {},
     "output_type": "execute_result"
    }
   ],
   "source": [
    "dados_copiado.update({'Fusca': 15000.00})\n",
    "dados_copiado"
   ]
  },
  {
   "cell_type": "code",
   "execution_count": 66,
   "metadata": {},
   "outputs": [
    {
     "data": {
      "text/plain": [
       "{'Jetta Variant': 88078.64,\n",
       " 'Crossfox': 72832.16,\n",
       " 'DS5': 124549.07,\n",
       " 'Passat': 106161.95}"
      ]
     },
     "execution_count": 66,
     "metadata": {},
     "output_type": "execute_result"
    }
   ],
   "source": [
    "dados"
   ]
  },
  {
   "cell_type": "code",
   "execution_count": 67,
   "metadata": {},
   "outputs": [],
   "source": [
    "# Excluindo um dicionario todo\n",
    "dados_copiado.clear()"
   ]
  },
  {
   "cell_type": "code",
   "execution_count": 68,
   "metadata": {},
   "outputs": [
    {
     "data": {
      "text/plain": [
       "{}"
      ]
     },
     "execution_count": 68,
     "metadata": {},
     "output_type": "execute_result"
    }
   ],
   "source": [
    "dados_copiado"
   ]
  },
  {
   "cell_type": "markdown",
   "metadata": {},
   "source": [
    "### Iteração de Dicionarios"
   ]
  },
  {
   "cell_type": "code",
   "execution_count": 69,
   "metadata": {},
   "outputs": [
    {
     "data": {
      "text/plain": [
       "{'Crossfox': 72832.16,\n",
       " 'DS5': 124549.07,\n",
       " 'Fusca': 150000,\n",
       " 'Jetta Variant': 88078.64,\n",
       " 'Passat': 106161.95}"
      ]
     },
     "execution_count": 69,
     "metadata": {},
     "output_type": "execute_result"
    }
   ],
   "source": [
    "dados = {'Crossfox': 72832.16, 'DS5': 124549.07,  'Fusca': 150000,  'Jetta Variant': 88078.64,  'Passat': 106161.95}\n",
    "dados"
   ]
  },
  {
   "cell_type": "code",
   "execution_count": 70,
   "metadata": {},
   "outputs": [
    {
     "data": {
      "text/plain": [
       "dict_keys(['Crossfox', 'DS5', 'Fusca', 'Jetta Variant', 'Passat'])"
      ]
     },
     "execution_count": 70,
     "metadata": {},
     "output_type": "execute_result"
    }
   ],
   "source": [
    "# Usando o metodo keys, que retorna as chaves do nosso dicionario\n",
    "dados.keys()"
   ]
  },
  {
   "cell_type": "code",
   "execution_count": 71,
   "metadata": {},
   "outputs": [
    {
     "data": {
      "text/plain": [
       "dict_values([72832.16, 124549.07, 150000, 88078.64, 106161.95])"
      ]
     },
     "execution_count": 71,
     "metadata": {},
     "output_type": "execute_result"
    }
   ],
   "source": [
    "# Usando o metodo values, que retorna os valores do nosso dicionario\n",
    "dados.values()"
   ]
  },
  {
   "cell_type": "code",
   "execution_count": 72,
   "metadata": {},
   "outputs": [
    {
     "name": "stdout",
     "output_type": "stream",
     "text": [
      "Crossfox\n",
      "DS5\n",
      "Fusca\n",
      "Jetta Variant\n",
      "Passat\n"
     ]
    }
   ],
   "source": [
    "# Fazendo uma iteração, printando os carros do nosso dicionario\n",
    "for carro in dados.keys():\n",
    "    print(carro)"
   ]
  },
  {
   "cell_type": "code",
   "execution_count": 73,
   "metadata": {},
   "outputs": [
    {
     "name": "stdout",
     "output_type": "stream",
     "text": [
      "72832.16\n",
      "124549.07\n",
      "150000\n",
      "88078.64\n",
      "106161.95\n"
     ]
    }
   ],
   "source": [
    "# Fazendo uma iteração, printando os valores do nosso dicionario\n",
    "for valor in dados.values():\n",
    "    print(valor)"
   ]
  },
  {
   "cell_type": "code",
   "execution_count": 74,
   "metadata": {},
   "outputs": [
    {
     "name": "stdout",
     "output_type": "stream",
     "text": [
      "72832.16\n",
      "124549.07\n",
      "150000\n",
      "88078.64\n",
      "106161.95\n"
     ]
    }
   ],
   "source": [
    "# Printando os valores de uma forma diferente\n",
    "for chave in dados.keys():\n",
    "    print(dados[chave])"
   ]
  },
  {
   "cell_type": "code",
   "execution_count": 75,
   "metadata": {},
   "outputs": [
    {
     "name": "stdout",
     "output_type": "stream",
     "text": [
      "DS5\n",
      "Fusca\n",
      "Passat\n"
     ]
    }
   ],
   "source": [
    "# Usando o metodo items, para fazer uma iteração e assim conseguir usar o if para ter uma condicional\n",
    "for carro, valor in dados.items():\n",
    "    if(valor>100000):\n",
    "        print(carro)"
   ]
  },
  {
   "cell_type": "code",
   "execution_count": 76,
   "metadata": {},
   "outputs": [
    {
     "data": {
      "text/plain": [
       "dict_items([('Crossfox', 72832.16), ('DS5', 124549.07), ('Fusca', 150000), ('Jetta Variant', 88078.64), ('Passat', 106161.95)])"
      ]
     },
     "execution_count": 76,
     "metadata": {},
     "output_type": "execute_result"
    }
   ],
   "source": [
    "# O metodo item retorna como se fosse um zip()\n",
    "dados.items()"
   ]
  },
  {
   "cell_type": "code",
   "execution_count": 77,
   "metadata": {},
   "outputs": [],
   "source": [
    "dados = {\n",
    "    'Crossfox': {'valor': 72000, 'ano': 2005}, \n",
    "    'DS5': {'valor': 125000, 'ano': 2015}, \n",
    "    'Fusca': {'valor': 150000, 'ano': 1976}, \n",
    "    'Jetta': {'valor': 88000, 'ano': 2010}, \n",
    "    'Passat': {'valor': 106000, 'ano': 1998}\n",
    "}"
   ]
  },
  {
   "cell_type": "code",
   "execution_count": 78,
   "metadata": {},
   "outputs": [
    {
     "name": "stdout",
     "output_type": "stream",
     "text": [
      "Crossfox\n",
      "DS5\n",
      "Jetta\n"
     ]
    }
   ],
   "source": [
    "# Código que imprime somente os nomes dos veículos com ano de fabricação maior ou igual a 2000.\n",
    "\n",
    "for dados in dados.items():\n",
    "    if(dados[1]['ano'] > 2000):\n",
    "        print(dados[0])"
   ]
  },
  {
   "cell_type": "markdown",
   "metadata": {},
   "source": [
    "### Criando built in function"
   ]
  },
  {
   "cell_type": "code",
   "execution_count": 79,
   "metadata": {},
   "outputs": [],
   "source": [
    "# Vamos fingir que não existe a função média e precisa ser criado uma função para média dos meus valores\n",
    "# Vamos fazer a mais simples mas a menos ultil\n",
    "\n",
    "def media ():                  # é a menos util pois eu precisaria passar todas as vezes os mesmos numeros para a média \n",
    "    valor = (1+2+3)/3          # e sempre que irei somar outros 3 numero, precisaria criar outra função\n",
    "    print(valor)"
   ]
  },
  {
   "cell_type": "code",
   "execution_count": 80,
   "metadata": {},
   "outputs": [],
   "source": [
    "# Agora criando uma função onde eu conseguiria somar quaisquer 3 numeros\n",
    "\n",
    "def media (number_01, number_02, number_03):\n",
    "    valor = (number_01 + number_02 + number_03)/3\n",
    "    print(valor)"
   ]
  },
  {
   "cell_type": "code",
   "execution_count": 81,
   "metadata": {},
   "outputs": [
    {
     "name": "stdout",
     "output_type": "stream",
     "text": [
      "27.666666666666668\n"
     ]
    }
   ],
   "source": [
    "media(24,34,25)"
   ]
  },
  {
   "cell_type": "code",
   "execution_count": 82,
   "metadata": {},
   "outputs": [],
   "source": [
    "'''Agora e se não soubessemos quantos valores precisariamos criar uma média, \n",
    "e criar uma função que ficasse com espaços ilimitados para a média'''\n",
    "\n",
    "def media(lista):\n",
    "    valor = sum(lista)/len(lista)\n",
    "    print(valor)"
   ]
  },
  {
   "cell_type": "code",
   "execution_count": 83,
   "metadata": {},
   "outputs": [
    {
     "name": "stdout",
     "output_type": "stream",
     "text": [
      "10.0\n"
     ]
    }
   ],
   "source": [
    "media([10,10,10,10,10,10,10])"
   ]
  },
  {
   "cell_type": "code",
   "execution_count": 84,
   "metadata": {},
   "outputs": [
    {
     "name": "stdout",
     "output_type": "stream",
     "text": [
      "4.5\n"
     ]
    }
   ],
   "source": [
    "media(range(10))"
   ]
  },
  {
   "cell_type": "markdown",
   "metadata": {},
   "source": [
    "### Exercicio"
   ]
  },
  {
   "cell_type": "code",
   "execution_count": 85,
   "metadata": {},
   "outputs": [],
   "source": [
    "dados = {\n",
    "    'Crossfox': {'km': 35000, 'ano': 2005}, \n",
    "    'DS5': {'km': 17000, 'ano': 2015}, \n",
    "    'Fusca': {'km': 130000, 'ano': 1979}, \n",
    "    'Jetta': {'km': 56000, 'ano': 2011}, \n",
    "    'Passat': {'km': 62000, 'ano': 1999}\n",
    "}"
   ]
  },
  {
   "cell_type": "code",
   "execution_count": 86,
   "metadata": {},
   "outputs": [],
   "source": [
    "# Criando uma função de media anual do veiculo\n",
    "def km_media(dataset, ano_atual): # Passando os parametros dataset e o ano em que esta presente\n",
    "    for item in dataset.items(): # Passando um for junto com o metodo items, para ele conseguir fazer uma iteração. Passei como dataset, para quando eu usar outros banco de dados eu nao ficar restringido a apenas uma variavel.\n",
    "        result = item[1]['km']/ (ano_atual - item[1]['ano']) # iterador posição 1 pegando km, dividido por ano atual colocado em parametro - iterador na posição 1 pegando ano\n",
    "        print(result)"
   ]
  },
  {
   "cell_type": "code",
   "execution_count": 87,
   "metadata": {},
   "outputs": [
    {
     "name": "stdout",
     "output_type": "stream",
     "text": [
      "2500.0\n",
      "4250.0\n",
      "3250.0\n",
      "7000.0\n",
      "3100.0\n"
     ]
    }
   ],
   "source": [
    "km_media(dados, 2019)"
   ]
  },
  {
   "cell_type": "code",
   "execution_count": 88,
   "metadata": {},
   "outputs": [
    {
     "data": {
      "text/plain": [
       "dict"
      ]
     },
     "execution_count": 88,
     "metadata": {},
     "output_type": "execute_result"
    }
   ],
   "source": [
    "type(dados)"
   ]
  },
  {
   "cell_type": "markdown",
   "metadata": {},
   "source": [
    "## Pandas"
   ]
  },
  {
   "cell_type": "code",
   "execution_count": 89,
   "metadata": {},
   "outputs": [],
   "source": [
    "import pandas as pd"
   ]
  },
  {
   "cell_type": "code",
   "execution_count": 90,
   "metadata": {},
   "outputs": [],
   "source": [
    "dataset = pd.read_csv('dados/db.csv', sep = ';', index_col = 0)"
   ]
  },
  {
   "cell_type": "code",
   "execution_count": 91,
   "metadata": {},
   "outputs": [
    {
     "data": {
      "text/html": [
       "<div>\n",
       "<style scoped>\n",
       "    .dataframe tbody tr th:only-of-type {\n",
       "        vertical-align: middle;\n",
       "    }\n",
       "\n",
       "    .dataframe tbody tr th {\n",
       "        vertical-align: top;\n",
       "    }\n",
       "\n",
       "    .dataframe thead th {\n",
       "        text-align: right;\n",
       "    }\n",
       "</style>\n",
       "<table border=\"1\" class=\"dataframe\">\n",
       "  <thead>\n",
       "    <tr style=\"text-align: right;\">\n",
       "      <th></th>\n",
       "      <th>Motor</th>\n",
       "      <th>Ano</th>\n",
       "      <th>Quilometragem</th>\n",
       "      <th>Zero_km</th>\n",
       "      <th>Acessórios</th>\n",
       "      <th>Valor</th>\n",
       "    </tr>\n",
       "    <tr>\n",
       "      <th>Nome</th>\n",
       "      <th></th>\n",
       "      <th></th>\n",
       "      <th></th>\n",
       "      <th></th>\n",
       "      <th></th>\n",
       "      <th></th>\n",
       "    </tr>\n",
       "  </thead>\n",
       "  <tbody>\n",
       "    <tr>\n",
       "      <th>Jetta Variant</th>\n",
       "      <td>Motor 4.0 Turbo</td>\n",
       "      <td>2003</td>\n",
       "      <td>44410.0</td>\n",
       "      <td>False</td>\n",
       "      <td>['Rodas de liga', 'Travas elétricas', 'Piloto ...</td>\n",
       "      <td>88078.64</td>\n",
       "    </tr>\n",
       "    <tr>\n",
       "      <th>Passat</th>\n",
       "      <td>Motor Diesel</td>\n",
       "      <td>1991</td>\n",
       "      <td>5712.0</td>\n",
       "      <td>False</td>\n",
       "      <td>['Central multimídia', 'Teto panorâmico', 'Fre...</td>\n",
       "      <td>106161.94</td>\n",
       "    </tr>\n",
       "    <tr>\n",
       "      <th>Crossfox</th>\n",
       "      <td>Motor Diesel V8</td>\n",
       "      <td>1990</td>\n",
       "      <td>37123.0</td>\n",
       "      <td>False</td>\n",
       "      <td>['Piloto automático', 'Controle de estabilidad...</td>\n",
       "      <td>72832.16</td>\n",
       "    </tr>\n",
       "    <tr>\n",
       "      <th>DS5</th>\n",
       "      <td>Motor 2.4 Turbo</td>\n",
       "      <td>2019</td>\n",
       "      <td>NaN</td>\n",
       "      <td>True</td>\n",
       "      <td>['Travas elétricas', '4 X 4', 'Vidros elétrico...</td>\n",
       "      <td>124549.07</td>\n",
       "    </tr>\n",
       "    <tr>\n",
       "      <th>Aston Martin DB4</th>\n",
       "      <td>Motor 2.4 Turbo</td>\n",
       "      <td>2006</td>\n",
       "      <td>25757.0</td>\n",
       "      <td>False</td>\n",
       "      <td>['Rodas de liga', '4 X 4', 'Central multimídia...</td>\n",
       "      <td>92612.10</td>\n",
       "    </tr>\n",
       "  </tbody>\n",
       "</table>\n",
       "</div>"
      ],
      "text/plain": [
       "                            Motor   Ano  Quilometragem  Zero_km  \\\n",
       "Nome                                                              \n",
       "Jetta Variant     Motor 4.0 Turbo  2003        44410.0    False   \n",
       "Passat               Motor Diesel  1991         5712.0    False   \n",
       "Crossfox          Motor Diesel V8  1990        37123.0    False   \n",
       "DS5               Motor 2.4 Turbo  2019            NaN     True   \n",
       "Aston Martin DB4  Motor 2.4 Turbo  2006        25757.0    False   \n",
       "\n",
       "                                                         Acessórios      Valor  \n",
       "Nome                                                                            \n",
       "Jetta Variant     ['Rodas de liga', 'Travas elétricas', 'Piloto ...   88078.64  \n",
       "Passat            ['Central multimídia', 'Teto panorâmico', 'Fre...  106161.94  \n",
       "Crossfox          ['Piloto automático', 'Controle de estabilidad...   72832.16  \n",
       "DS5               ['Travas elétricas', '4 X 4', 'Vidros elétrico...  124549.07  \n",
       "Aston Martin DB4  ['Rodas de liga', '4 X 4', 'Central multimídia...   92612.10  "
      ]
     },
     "execution_count": 91,
     "metadata": {},
     "output_type": "execute_result"
    }
   ],
   "source": [
    "dataset.head()"
   ]
  },
  {
   "cell_type": "markdown",
   "metadata": {},
   "source": [
    "### Seleção de colunas de Dataframes"
   ]
  },
  {
   "cell_type": "code",
   "execution_count": 92,
   "metadata": {},
   "outputs": [
    {
     "data": {
      "text/html": [
       "<div>\n",
       "<style scoped>\n",
       "    .dataframe tbody tr th:only-of-type {\n",
       "        vertical-align: middle;\n",
       "    }\n",
       "\n",
       "    .dataframe tbody tr th {\n",
       "        vertical-align: top;\n",
       "    }\n",
       "\n",
       "    .dataframe thead th {\n",
       "        text-align: right;\n",
       "    }\n",
       "</style>\n",
       "<table border=\"1\" class=\"dataframe\">\n",
       "  <thead>\n",
       "    <tr style=\"text-align: right;\">\n",
       "      <th></th>\n",
       "      <th>Motor</th>\n",
       "    </tr>\n",
       "    <tr>\n",
       "      <th>Nome</th>\n",
       "      <th></th>\n",
       "    </tr>\n",
       "  </thead>\n",
       "  <tbody>\n",
       "    <tr>\n",
       "      <th>Jetta Variant</th>\n",
       "      <td>Motor 4.0 Turbo</td>\n",
       "    </tr>\n",
       "    <tr>\n",
       "      <th>Passat</th>\n",
       "      <td>Motor Diesel</td>\n",
       "    </tr>\n",
       "    <tr>\n",
       "      <th>Crossfox</th>\n",
       "      <td>Motor Diesel V8</td>\n",
       "    </tr>\n",
       "    <tr>\n",
       "      <th>DS5</th>\n",
       "      <td>Motor 2.4 Turbo</td>\n",
       "    </tr>\n",
       "    <tr>\n",
       "      <th>Aston Martin DB4</th>\n",
       "      <td>Motor 2.4 Turbo</td>\n",
       "    </tr>\n",
       "    <tr>\n",
       "      <th>...</th>\n",
       "      <td>...</td>\n",
       "    </tr>\n",
       "    <tr>\n",
       "      <th>Phantom 2013</th>\n",
       "      <td>Motor V8</td>\n",
       "    </tr>\n",
       "    <tr>\n",
       "      <th>Cadillac Ciel concept</th>\n",
       "      <td>Motor V8</td>\n",
       "    </tr>\n",
       "    <tr>\n",
       "      <th>Classe GLK</th>\n",
       "      <td>Motor 5.0 V8 Bi-Turbo</td>\n",
       "    </tr>\n",
       "    <tr>\n",
       "      <th>Aston Martin DB5</th>\n",
       "      <td>Motor Diesel</td>\n",
       "    </tr>\n",
       "    <tr>\n",
       "      <th>Macan</th>\n",
       "      <td>Motor Diesel V6</td>\n",
       "    </tr>\n",
       "  </tbody>\n",
       "</table>\n",
       "<p>258 rows × 1 columns</p>\n",
       "</div>"
      ],
      "text/plain": [
       "                                       Motor\n",
       "Nome                                        \n",
       "Jetta Variant                Motor 4.0 Turbo\n",
       "Passat                          Motor Diesel\n",
       "Crossfox                     Motor Diesel V8\n",
       "DS5                          Motor 2.4 Turbo\n",
       "Aston Martin DB4             Motor 2.4 Turbo\n",
       "...                                      ...\n",
       "Phantom 2013                        Motor V8\n",
       "Cadillac Ciel concept               Motor V8\n",
       "Classe GLK             Motor 5.0 V8 Bi-Turbo\n",
       "Aston Martin DB5                Motor Diesel\n",
       "Macan                        Motor Diesel V6\n",
       "\n",
       "[258 rows x 1 columns]"
      ]
     },
     "execution_count": 92,
     "metadata": {},
     "output_type": "execute_result"
    }
   ],
   "source": [
    "dataset[['Motor']]"
   ]
  },
  {
   "cell_type": "code",
   "execution_count": 93,
   "metadata": {},
   "outputs": [
    {
     "data": {
      "text/html": [
       "<div>\n",
       "<style scoped>\n",
       "    .dataframe tbody tr th:only-of-type {\n",
       "        vertical-align: middle;\n",
       "    }\n",
       "\n",
       "    .dataframe tbody tr th {\n",
       "        vertical-align: top;\n",
       "    }\n",
       "\n",
       "    .dataframe thead th {\n",
       "        text-align: right;\n",
       "    }\n",
       "</style>\n",
       "<table border=\"1\" class=\"dataframe\">\n",
       "  <thead>\n",
       "    <tr style=\"text-align: right;\">\n",
       "      <th></th>\n",
       "      <th>Valor</th>\n",
       "    </tr>\n",
       "    <tr>\n",
       "      <th>Nome</th>\n",
       "      <th></th>\n",
       "    </tr>\n",
       "  </thead>\n",
       "  <tbody>\n",
       "    <tr>\n",
       "      <th>Jetta Variant</th>\n",
       "      <td>88078.64</td>\n",
       "    </tr>\n",
       "    <tr>\n",
       "      <th>Passat</th>\n",
       "      <td>106161.94</td>\n",
       "    </tr>\n",
       "    <tr>\n",
       "      <th>Crossfox</th>\n",
       "      <td>72832.16</td>\n",
       "    </tr>\n",
       "    <tr>\n",
       "      <th>DS5</th>\n",
       "      <td>124549.07</td>\n",
       "    </tr>\n",
       "    <tr>\n",
       "      <th>Aston Martin DB4</th>\n",
       "      <td>92612.10</td>\n",
       "    </tr>\n",
       "    <tr>\n",
       "      <th>...</th>\n",
       "      <td>...</td>\n",
       "    </tr>\n",
       "    <tr>\n",
       "      <th>Phantom 2013</th>\n",
       "      <td>51759.58</td>\n",
       "    </tr>\n",
       "    <tr>\n",
       "      <th>Cadillac Ciel concept</th>\n",
       "      <td>51667.06</td>\n",
       "    </tr>\n",
       "    <tr>\n",
       "      <th>Classe GLK</th>\n",
       "      <td>68934.03</td>\n",
       "    </tr>\n",
       "    <tr>\n",
       "      <th>Aston Martin DB5</th>\n",
       "      <td>122110.90</td>\n",
       "    </tr>\n",
       "    <tr>\n",
       "      <th>Macan</th>\n",
       "      <td>90381.47</td>\n",
       "    </tr>\n",
       "  </tbody>\n",
       "</table>\n",
       "<p>258 rows × 1 columns</p>\n",
       "</div>"
      ],
      "text/plain": [
       "                           Valor\n",
       "Nome                            \n",
       "Jetta Variant           88078.64\n",
       "Passat                 106161.94\n",
       "Crossfox                72832.16\n",
       "DS5                    124549.07\n",
       "Aston Martin DB4        92612.10\n",
       "...                          ...\n",
       "Phantom 2013            51759.58\n",
       "Cadillac Ciel concept   51667.06\n",
       "Classe GLK              68934.03\n",
       "Aston Martin DB5       122110.90\n",
       "Macan                   90381.47\n",
       "\n",
       "[258 rows x 1 columns]"
      ]
     },
     "execution_count": 93,
     "metadata": {},
     "output_type": "execute_result"
    }
   ],
   "source": [
    "dataset[['Valor']]"
   ]
  },
  {
   "cell_type": "code",
   "execution_count": 94,
   "metadata": {},
   "outputs": [
    {
     "data": {
      "text/html": [
       "<div>\n",
       "<style scoped>\n",
       "    .dataframe tbody tr th:only-of-type {\n",
       "        vertical-align: middle;\n",
       "    }\n",
       "\n",
       "    .dataframe tbody tr th {\n",
       "        vertical-align: top;\n",
       "    }\n",
       "\n",
       "    .dataframe thead th {\n",
       "        text-align: right;\n",
       "    }\n",
       "</style>\n",
       "<table border=\"1\" class=\"dataframe\">\n",
       "  <thead>\n",
       "    <tr style=\"text-align: right;\">\n",
       "      <th></th>\n",
       "      <th>Motor</th>\n",
       "      <th>Ano</th>\n",
       "      <th>Quilometragem</th>\n",
       "      <th>Zero_km</th>\n",
       "      <th>Acessórios</th>\n",
       "      <th>Valor</th>\n",
       "    </tr>\n",
       "    <tr>\n",
       "      <th>Nome</th>\n",
       "      <th></th>\n",
       "      <th></th>\n",
       "      <th></th>\n",
       "      <th></th>\n",
       "      <th></th>\n",
       "      <th></th>\n",
       "    </tr>\n",
       "  </thead>\n",
       "  <tbody>\n",
       "    <tr>\n",
       "      <th>Passat</th>\n",
       "      <td>Motor Diesel</td>\n",
       "      <td>1991</td>\n",
       "      <td>5712.0</td>\n",
       "      <td>False</td>\n",
       "      <td>['Central multimídia', 'Teto panorâmico', 'Fre...</td>\n",
       "      <td>106161.94</td>\n",
       "    </tr>\n",
       "  </tbody>\n",
       "</table>\n",
       "</div>"
      ],
      "text/plain": [
       "               Motor   Ano  Quilometragem  Zero_km  \\\n",
       "Nome                                                 \n",
       "Passat  Motor Diesel  1991         5712.0    False   \n",
       "\n",
       "                                               Acessórios      Valor  \n",
       "Nome                                                                  \n",
       "Passat  ['Central multimídia', 'Teto panorâmico', 'Fre...  106161.94  "
      ]
     },
     "execution_count": 94,
     "metadata": {},
     "output_type": "execute_result"
    }
   ],
   "source": [
    "# Usando o .loc\n",
    "dataset.loc[['Passat']]"
   ]
  },
  {
   "cell_type": "code",
   "execution_count": 95,
   "metadata": {},
   "outputs": [
    {
     "data": {
      "text/html": [
       "<div>\n",
       "<style scoped>\n",
       "    .dataframe tbody tr th:only-of-type {\n",
       "        vertical-align: middle;\n",
       "    }\n",
       "\n",
       "    .dataframe tbody tr th {\n",
       "        vertical-align: top;\n",
       "    }\n",
       "\n",
       "    .dataframe thead th {\n",
       "        text-align: right;\n",
       "    }\n",
       "</style>\n",
       "<table border=\"1\" class=\"dataframe\">\n",
       "  <thead>\n",
       "    <tr style=\"text-align: right;\">\n",
       "      <th></th>\n",
       "      <th>Valor</th>\n",
       "    </tr>\n",
       "    <tr>\n",
       "      <th>Nome</th>\n",
       "      <th></th>\n",
       "    </tr>\n",
       "  </thead>\n",
       "  <tbody>\n",
       "    <tr>\n",
       "      <th>DS5</th>\n",
       "      <td>124549.07</td>\n",
       "    </tr>\n",
       "  </tbody>\n",
       "</table>\n",
       "</div>"
      ],
      "text/plain": [
       "          Valor\n",
       "Nome           \n",
       "DS5   124549.07"
      ]
     },
     "execution_count": 95,
     "metadata": {},
     "output_type": "execute_result"
    }
   ],
   "source": [
    "dataset.loc[['DS5'],['Valor']]"
   ]
  },
  {
   "cell_type": "code",
   "execution_count": 96,
   "metadata": {},
   "outputs": [
    {
     "data": {
      "text/plain": [
       "Motor                                                 Motor Diesel\n",
       "Ano                                                           1991\n",
       "Quilometragem                                                 5712\n",
       "Zero_km                                                      False\n",
       "Acessórios       ['Central multimídia', 'Teto panorâmico', 'Fre...\n",
       "Valor                                                       106162\n",
       "Name: Passat, dtype: object"
      ]
     },
     "execution_count": 96,
     "metadata": {},
     "output_type": "execute_result"
    }
   ],
   "source": [
    "# Usando o .iloc\n",
    "# Usando apenas um numero dentro dos colchetes, ele retorna a primeira linha com todas as colunas em forma de conjunto de series\n",
    "dataset.iloc[1]"
   ]
  },
  {
   "cell_type": "code",
   "execution_count": 97,
   "metadata": {},
   "outputs": [
    {
     "data": {
      "text/plain": [
       "pandas.core.series.Series"
      ]
     },
     "execution_count": 97,
     "metadata": {},
     "output_type": "execute_result"
    }
   ],
   "source": [
    "type(dataset.iloc[1])"
   ]
  },
  {
   "cell_type": "code",
   "execution_count": 98,
   "metadata": {},
   "outputs": [
    {
     "data": {
      "text/plain": [
       "\"['Central multimídia', 'Teto panorâmico', 'Freios ABS', '4 X 4', 'Painel digital', 'Piloto automático', 'Bancos de couro', 'Câmera de estacionamento']\""
      ]
     },
     "execution_count": 98,
     "metadata": {},
     "output_type": "execute_result"
    }
   ],
   "source": [
    "# Usando mais de um elementro dentro desse primeiro colchete, ele retorna a linha e a coluna\n",
    "dataset.iloc[1,4]"
   ]
  },
  {
   "cell_type": "code",
   "execution_count": 99,
   "metadata": {},
   "outputs": [
    {
     "data": {
      "text/html": [
       "<div>\n",
       "<style scoped>\n",
       "    .dataframe tbody tr th:only-of-type {\n",
       "        vertical-align: middle;\n",
       "    }\n",
       "\n",
       "    .dataframe tbody tr th {\n",
       "        vertical-align: top;\n",
       "    }\n",
       "\n",
       "    .dataframe thead th {\n",
       "        text-align: right;\n",
       "    }\n",
       "</style>\n",
       "<table border=\"1\" class=\"dataframe\">\n",
       "  <thead>\n",
       "    <tr style=\"text-align: right;\">\n",
       "      <th></th>\n",
       "      <th>Motor</th>\n",
       "      <th>Ano</th>\n",
       "      <th>Quilometragem</th>\n",
       "      <th>Zero_km</th>\n",
       "      <th>Acessórios</th>\n",
       "      <th>Valor</th>\n",
       "    </tr>\n",
       "    <tr>\n",
       "      <th>Nome</th>\n",
       "      <th></th>\n",
       "      <th></th>\n",
       "      <th></th>\n",
       "      <th></th>\n",
       "      <th></th>\n",
       "      <th></th>\n",
       "    </tr>\n",
       "  </thead>\n",
       "  <tbody>\n",
       "    <tr>\n",
       "      <th>Passat</th>\n",
       "      <td>Motor Diesel</td>\n",
       "      <td>1991</td>\n",
       "      <td>5712.0</td>\n",
       "      <td>False</td>\n",
       "      <td>['Central multimídia', 'Teto panorâmico', 'Fre...</td>\n",
       "      <td>106161.94</td>\n",
       "    </tr>\n",
       "    <tr>\n",
       "      <th>Aston Martin DB4</th>\n",
       "      <td>Motor 2.4 Turbo</td>\n",
       "      <td>2006</td>\n",
       "      <td>25757.0</td>\n",
       "      <td>False</td>\n",
       "      <td>['Rodas de liga', '4 X 4', 'Central multimídia...</td>\n",
       "      <td>92612.10</td>\n",
       "    </tr>\n",
       "  </tbody>\n",
       "</table>\n",
       "</div>"
      ],
      "text/plain": [
       "                            Motor   Ano  Quilometragem  Zero_km  \\\n",
       "Nome                                                              \n",
       "Passat               Motor Diesel  1991         5712.0    False   \n",
       "Aston Martin DB4  Motor 2.4 Turbo  2006        25757.0    False   \n",
       "\n",
       "                                                         Acessórios      Valor  \n",
       "Nome                                                                            \n",
       "Passat            ['Central multimídia', 'Teto panorâmico', 'Fre...  106161.94  \n",
       "Aston Martin DB4  ['Rodas de liga', '4 X 4', 'Central multimídia...   92612.10  "
      ]
     },
     "execution_count": 99,
     "metadata": {},
     "output_type": "execute_result"
    }
   ],
   "source": [
    "'''Usando com dois colchetes ele retorna um DataFrame do segundo veiculo e do quinto do data frame, ele não segue a \n",
    "mesma ideia que apenas um colchete de retorno de linha e coluna'''\n",
    "\n",
    "dataset.iloc[[1,4]]"
   ]
  },
  {
   "cell_type": "code",
   "execution_count": 100,
   "metadata": {},
   "outputs": [
    {
     "data": {
      "text/html": [
       "<div>\n",
       "<style scoped>\n",
       "    .dataframe tbody tr th:only-of-type {\n",
       "        vertical-align: middle;\n",
       "    }\n",
       "\n",
       "    .dataframe tbody tr th {\n",
       "        vertical-align: top;\n",
       "    }\n",
       "\n",
       "    .dataframe thead th {\n",
       "        text-align: right;\n",
       "    }\n",
       "</style>\n",
       "<table border=\"1\" class=\"dataframe\">\n",
       "  <thead>\n",
       "    <tr style=\"text-align: right;\">\n",
       "      <th></th>\n",
       "      <th>Ano</th>\n",
       "      <th>Zero_km</th>\n",
       "      <th>Acessórios</th>\n",
       "    </tr>\n",
       "    <tr>\n",
       "      <th>Nome</th>\n",
       "      <th></th>\n",
       "      <th></th>\n",
       "      <th></th>\n",
       "    </tr>\n",
       "  </thead>\n",
       "  <tbody>\n",
       "    <tr>\n",
       "      <th>Passat</th>\n",
       "      <td>1991</td>\n",
       "      <td>False</td>\n",
       "      <td>['Central multimídia', 'Teto panorâmico', 'Fre...</td>\n",
       "    </tr>\n",
       "    <tr>\n",
       "      <th>Aston Martin DB4</th>\n",
       "      <td>2006</td>\n",
       "      <td>False</td>\n",
       "      <td>['Rodas de liga', '4 X 4', 'Central multimídia...</td>\n",
       "    </tr>\n",
       "  </tbody>\n",
       "</table>\n",
       "</div>"
      ],
      "text/plain": [
       "                   Ano  Zero_km  \\\n",
       "Nome                              \n",
       "Passat            1991    False   \n",
       "Aston Martin DB4  2006    False   \n",
       "\n",
       "                                                         Acessórios  \n",
       "Nome                                                                 \n",
       "Passat            ['Central multimídia', 'Teto panorâmico', 'Fre...  \n",
       "Aston Martin DB4  ['Rodas de liga', '4 X 4', 'Central multimídia...  "
      ]
     },
     "execution_count": 100,
     "metadata": {},
     "output_type": "execute_result"
    }
   ],
   "source": [
    "# Se eu quero uma coluna especifica e mais de uma linhas em formato de Dataframe\n",
    "\n",
    "dataset.iloc[[1,4], [1,3,4]]"
   ]
  },
  {
   "cell_type": "code",
   "execution_count": 101,
   "metadata": {},
   "outputs": [
    {
     "data": {
      "text/html": [
       "<div>\n",
       "<style scoped>\n",
       "    .dataframe tbody tr th:only-of-type {\n",
       "        vertical-align: middle;\n",
       "    }\n",
       "\n",
       "    .dataframe tbody tr th {\n",
       "        vertical-align: top;\n",
       "    }\n",
       "\n",
       "    .dataframe thead th {\n",
       "        text-align: right;\n",
       "    }\n",
       "</style>\n",
       "<table border=\"1\" class=\"dataframe\">\n",
       "  <thead>\n",
       "    <tr style=\"text-align: right;\">\n",
       "      <th></th>\n",
       "      <th>Ano</th>\n",
       "      <th>Acessórios</th>\n",
       "      <th>Zero_km</th>\n",
       "    </tr>\n",
       "    <tr>\n",
       "      <th>Nome</th>\n",
       "      <th></th>\n",
       "      <th></th>\n",
       "      <th></th>\n",
       "    </tr>\n",
       "  </thead>\n",
       "  <tbody>\n",
       "    <tr>\n",
       "      <th>Passat</th>\n",
       "      <td>1991</td>\n",
       "      <td>['Central multimídia', 'Teto panorâmico', 'Fre...</td>\n",
       "      <td>False</td>\n",
       "    </tr>\n",
       "    <tr>\n",
       "      <th>Aston Martin DB4</th>\n",
       "      <td>2006</td>\n",
       "      <td>['Rodas de liga', '4 X 4', 'Central multimídia...</td>\n",
       "      <td>False</td>\n",
       "    </tr>\n",
       "  </tbody>\n",
       "</table>\n",
       "</div>"
      ],
      "text/plain": [
       "                   Ano                                         Acessórios  \\\n",
       "Nome                                                                        \n",
       "Passat            1991  ['Central multimídia', 'Teto panorâmico', 'Fre...   \n",
       "Aston Martin DB4  2006  ['Rodas de liga', '4 X 4', 'Central multimídia...   \n",
       "\n",
       "                  Zero_km  \n",
       "Nome                       \n",
       "Passat              False  \n",
       "Aston Martin DB4    False  "
      ]
     },
     "execution_count": 101,
     "metadata": {},
     "output_type": "execute_result"
    }
   ],
   "source": [
    "# ou se eu quiser de outra ordem\n",
    "\n",
    "dataset.iloc[[1,4], [1,4,3]]"
   ]
  },
  {
   "cell_type": "code",
   "execution_count": 102,
   "metadata": {},
   "outputs": [],
   "source": [
    "# Exercicio\n",
    "dados = {\n",
    "    'Nome': ['Jetta', 'Passat', 'Crossfox', 'DS5', 'Fusca'], \n",
    "    'Motor': ['Motor 4.0 Turbo', 'Motor Diesel', 'Motor Diesel V8', 'Motor 2.0', 'Motor 1.6'],\n",
    "    'Ano': [2019, 2003, 1991, 2019, 1990],\n",
    "    'Quilometragem': [0.0, 5712.0, 37123.0, 0.0, 120000.0],\n",
    "    'Zero_km': [True, False, False, True, False],\n",
    "    'Valor': [88000.0, 106000.0, 72000.0, 89000.0, 32000.0]\n",
    "}\n",
    "\n",
    "dataset = pd.DataFrame(dados)"
   ]
  },
  {
   "cell_type": "code",
   "execution_count": 103,
   "metadata": {},
   "outputs": [
    {
     "data": {
      "text/html": [
       "<div>\n",
       "<style scoped>\n",
       "    .dataframe tbody tr th:only-of-type {\n",
       "        vertical-align: middle;\n",
       "    }\n",
       "\n",
       "    .dataframe tbody tr th {\n",
       "        vertical-align: top;\n",
       "    }\n",
       "\n",
       "    .dataframe thead th {\n",
       "        text-align: right;\n",
       "    }\n",
       "</style>\n",
       "<table border=\"1\" class=\"dataframe\">\n",
       "  <thead>\n",
       "    <tr style=\"text-align: right;\">\n",
       "      <th></th>\n",
       "      <th>Nome</th>\n",
       "      <th>Motor</th>\n",
       "      <th>Ano</th>\n",
       "      <th>Quilometragem</th>\n",
       "      <th>Zero_km</th>\n",
       "      <th>Valor</th>\n",
       "    </tr>\n",
       "  </thead>\n",
       "  <tbody>\n",
       "    <tr>\n",
       "      <th>0</th>\n",
       "      <td>Jetta</td>\n",
       "      <td>Motor 4.0 Turbo</td>\n",
       "      <td>2019</td>\n",
       "      <td>0.0</td>\n",
       "      <td>True</td>\n",
       "      <td>88000.0</td>\n",
       "    </tr>\n",
       "    <tr>\n",
       "      <th>1</th>\n",
       "      <td>Passat</td>\n",
       "      <td>Motor Diesel</td>\n",
       "      <td>2003</td>\n",
       "      <td>5712.0</td>\n",
       "      <td>False</td>\n",
       "      <td>106000.0</td>\n",
       "    </tr>\n",
       "    <tr>\n",
       "      <th>2</th>\n",
       "      <td>Crossfox</td>\n",
       "      <td>Motor Diesel V8</td>\n",
       "      <td>1991</td>\n",
       "      <td>37123.0</td>\n",
       "      <td>False</td>\n",
       "      <td>72000.0</td>\n",
       "    </tr>\n",
       "    <tr>\n",
       "      <th>3</th>\n",
       "      <td>DS5</td>\n",
       "      <td>Motor 2.0</td>\n",
       "      <td>2019</td>\n",
       "      <td>0.0</td>\n",
       "      <td>True</td>\n",
       "      <td>89000.0</td>\n",
       "    </tr>\n",
       "    <tr>\n",
       "      <th>4</th>\n",
       "      <td>Fusca</td>\n",
       "      <td>Motor 1.6</td>\n",
       "      <td>1990</td>\n",
       "      <td>120000.0</td>\n",
       "      <td>False</td>\n",
       "      <td>32000.0</td>\n",
       "    </tr>\n",
       "  </tbody>\n",
       "</table>\n",
       "</div>"
      ],
      "text/plain": [
       "       Nome            Motor   Ano  Quilometragem  Zero_km     Valor\n",
       "0     Jetta  Motor 4.0 Turbo  2019            0.0     True   88000.0\n",
       "1    Passat     Motor Diesel  2003         5712.0    False  106000.0\n",
       "2  Crossfox  Motor Diesel V8  1991        37123.0    False   72000.0\n",
       "3       DS5        Motor 2.0  2019            0.0     True   89000.0\n",
       "4     Fusca        Motor 1.6  1990       120000.0    False   32000.0"
      ]
     },
     "execution_count": 103,
     "metadata": {},
     "output_type": "execute_result"
    }
   ],
   "source": [
    "dataset"
   ]
  },
  {
   "cell_type": "code",
   "execution_count": 104,
   "metadata": {},
   "outputs": [
    {
     "data": {
      "text/html": [
       "<div>\n",
       "<style scoped>\n",
       "    .dataframe tbody tr th:only-of-type {\n",
       "        vertical-align: middle;\n",
       "    }\n",
       "\n",
       "    .dataframe tbody tr th {\n",
       "        vertical-align: top;\n",
       "    }\n",
       "\n",
       "    .dataframe thead th {\n",
       "        text-align: right;\n",
       "    }\n",
       "</style>\n",
       "<table border=\"1\" class=\"dataframe\">\n",
       "  <thead>\n",
       "    <tr style=\"text-align: right;\">\n",
       "      <th></th>\n",
       "      <th>Nome</th>\n",
       "      <th>Ano</th>\n",
       "      <th>Quilometragem</th>\n",
       "      <th>Valor</th>\n",
       "    </tr>\n",
       "  </thead>\n",
       "  <tbody>\n",
       "    <tr>\n",
       "      <th>1</th>\n",
       "      <td>Passat</td>\n",
       "      <td>2003</td>\n",
       "      <td>5712.0</td>\n",
       "      <td>106000.0</td>\n",
       "    </tr>\n",
       "    <tr>\n",
       "      <th>2</th>\n",
       "      <td>Crossfox</td>\n",
       "      <td>1991</td>\n",
       "      <td>37123.0</td>\n",
       "      <td>72000.0</td>\n",
       "    </tr>\n",
       "  </tbody>\n",
       "</table>\n",
       "</div>"
      ],
      "text/plain": [
       "       Nome   Ano  Quilometragem     Valor\n",
       "1    Passat  2003         5712.0  106000.0\n",
       "2  Crossfox  1991        37123.0   72000.0"
      ]
     },
     "execution_count": 104,
     "metadata": {},
     "output_type": "execute_result"
    }
   ],
   "source": [
    "'''Contenha o código que seleciona somente as informações de Nome, Ano, Quilometragem e Valor dos carros Passat e Crossfox.'''\n",
    "\n",
    "dataset.iloc[[1,2], [0,2,3,5]]"
   ]
  },
  {
   "cell_type": "code",
   "execution_count": 105,
   "metadata": {},
   "outputs": [
    {
     "data": {
      "text/html": [
       "<div>\n",
       "<style scoped>\n",
       "    .dataframe tbody tr th:only-of-type {\n",
       "        vertical-align: middle;\n",
       "    }\n",
       "\n",
       "    .dataframe tbody tr th {\n",
       "        vertical-align: top;\n",
       "    }\n",
       "\n",
       "    .dataframe thead th {\n",
       "        text-align: right;\n",
       "    }\n",
       "</style>\n",
       "<table border=\"1\" class=\"dataframe\">\n",
       "  <thead>\n",
       "    <tr style=\"text-align: right;\">\n",
       "      <th></th>\n",
       "      <th>Nome</th>\n",
       "      <th>Ano</th>\n",
       "      <th>Quilometragem</th>\n",
       "      <th>Valor</th>\n",
       "    </tr>\n",
       "  </thead>\n",
       "  <tbody>\n",
       "    <tr>\n",
       "      <th>1</th>\n",
       "      <td>Passat</td>\n",
       "      <td>2003</td>\n",
       "      <td>5712.0</td>\n",
       "      <td>106000.0</td>\n",
       "    </tr>\n",
       "    <tr>\n",
       "      <th>2</th>\n",
       "      <td>Crossfox</td>\n",
       "      <td>1991</td>\n",
       "      <td>37123.0</td>\n",
       "      <td>72000.0</td>\n",
       "    </tr>\n",
       "  </tbody>\n",
       "</table>\n",
       "</div>"
      ],
      "text/plain": [
       "       Nome   Ano  Quilometragem     Valor\n",
       "1    Passat  2003         5712.0  106000.0\n",
       "2  Crossfox  1991        37123.0   72000.0"
      ]
     },
     "execution_count": 105,
     "metadata": {},
     "output_type": "execute_result"
    }
   ],
   "source": [
    "dataset[['Nome', 'Ano', 'Quilometragem', 'Valor']][1:3]"
   ]
  },
  {
   "cell_type": "code",
   "execution_count": 106,
   "metadata": {},
   "outputs": [],
   "source": [
    "dados = {\n",
    "    'Motor': ['Motor 4.0 Turbo', 'Motor Diesel', 'Motor Diesel V8', 'Motor 2.0', 'Motor 1.6'],\n",
    "    'Ano': [2019, 2003, 1991, 2019, 1990],\n",
    "    'Quilometragem': [0.0, 5712.0, 37123.0, 0.0, 120000.0],\n",
    "    'Zero_km': [True, False, False, True, False],\n",
    "    'Valor': [88000.0, 106000.0, 72000.0, 89000.0, 32000.0]\n",
    "}\n",
    "\n",
    "dataset = pd.DataFrame(dados, index = ['Jetta', 'Passat', 'Crossfox', 'DS5', 'Fusca'])"
   ]
  },
  {
   "cell_type": "code",
   "execution_count": 107,
   "metadata": {},
   "outputs": [
    {
     "data": {
      "text/html": [
       "<div>\n",
       "<style scoped>\n",
       "    .dataframe tbody tr th:only-of-type {\n",
       "        vertical-align: middle;\n",
       "    }\n",
       "\n",
       "    .dataframe tbody tr th {\n",
       "        vertical-align: top;\n",
       "    }\n",
       "\n",
       "    .dataframe thead th {\n",
       "        text-align: right;\n",
       "    }\n",
       "</style>\n",
       "<table border=\"1\" class=\"dataframe\">\n",
       "  <thead>\n",
       "    <tr style=\"text-align: right;\">\n",
       "      <th></th>\n",
       "      <th>Motor</th>\n",
       "      <th>Ano</th>\n",
       "      <th>Quilometragem</th>\n",
       "      <th>Zero_km</th>\n",
       "      <th>Valor</th>\n",
       "    </tr>\n",
       "  </thead>\n",
       "  <tbody>\n",
       "    <tr>\n",
       "      <th>Jetta</th>\n",
       "      <td>Motor 4.0 Turbo</td>\n",
       "      <td>2019</td>\n",
       "      <td>0.0</td>\n",
       "      <td>True</td>\n",
       "      <td>88000.0</td>\n",
       "    </tr>\n",
       "    <tr>\n",
       "      <th>Passat</th>\n",
       "      <td>Motor Diesel</td>\n",
       "      <td>2003</td>\n",
       "      <td>5712.0</td>\n",
       "      <td>False</td>\n",
       "      <td>106000.0</td>\n",
       "    </tr>\n",
       "    <tr>\n",
       "      <th>Crossfox</th>\n",
       "      <td>Motor Diesel V8</td>\n",
       "      <td>1991</td>\n",
       "      <td>37123.0</td>\n",
       "      <td>False</td>\n",
       "      <td>72000.0</td>\n",
       "    </tr>\n",
       "    <tr>\n",
       "      <th>DS5</th>\n",
       "      <td>Motor 2.0</td>\n",
       "      <td>2019</td>\n",
       "      <td>0.0</td>\n",
       "      <td>True</td>\n",
       "      <td>89000.0</td>\n",
       "    </tr>\n",
       "    <tr>\n",
       "      <th>Fusca</th>\n",
       "      <td>Motor 1.6</td>\n",
       "      <td>1990</td>\n",
       "      <td>120000.0</td>\n",
       "      <td>False</td>\n",
       "      <td>32000.0</td>\n",
       "    </tr>\n",
       "  </tbody>\n",
       "</table>\n",
       "</div>"
      ],
      "text/plain": [
       "                    Motor   Ano  Quilometragem  Zero_km     Valor\n",
       "Jetta     Motor 4.0 Turbo  2019            0.0     True   88000.0\n",
       "Passat       Motor Diesel  2003         5712.0    False  106000.0\n",
       "Crossfox  Motor Diesel V8  1991        37123.0    False   72000.0\n",
       "DS5             Motor 2.0  2019            0.0     True   89000.0\n",
       "Fusca           Motor 1.6  1990       120000.0    False   32000.0"
      ]
     },
     "execution_count": 107,
     "metadata": {},
     "output_type": "execute_result"
    }
   ],
   "source": [
    "dataset"
   ]
  },
  {
   "cell_type": "code",
   "execution_count": 108,
   "metadata": {},
   "outputs": [
    {
     "data": {
      "text/html": [
       "<div>\n",
       "<style scoped>\n",
       "    .dataframe tbody tr th:only-of-type {\n",
       "        vertical-align: middle;\n",
       "    }\n",
       "\n",
       "    .dataframe tbody tr th {\n",
       "        vertical-align: top;\n",
       "    }\n",
       "\n",
       "    .dataframe thead th {\n",
       "        text-align: right;\n",
       "    }\n",
       "</style>\n",
       "<table border=\"1\" class=\"dataframe\">\n",
       "  <thead>\n",
       "    <tr style=\"text-align: right;\">\n",
       "      <th></th>\n",
       "      <th>Motor</th>\n",
       "      <th>Valor</th>\n",
       "    </tr>\n",
       "  </thead>\n",
       "  <tbody>\n",
       "    <tr>\n",
       "      <th>Passat</th>\n",
       "      <td>Motor Diesel</td>\n",
       "      <td>106000.0</td>\n",
       "    </tr>\n",
       "    <tr>\n",
       "      <th>DS5</th>\n",
       "      <td>Motor 2.0</td>\n",
       "      <td>89000.0</td>\n",
       "    </tr>\n",
       "  </tbody>\n",
       "</table>\n",
       "</div>"
      ],
      "text/plain": [
       "               Motor     Valor\n",
       "Passat  Motor Diesel  106000.0\n",
       "DS5        Motor 2.0   89000.0"
      ]
     },
     "execution_count": 108,
     "metadata": {},
     "output_type": "execute_result"
    }
   ],
   "source": [
    "dataset.loc[['Passat', 'DS5'], ['Motor', 'Valor']]"
   ]
  },
  {
   "cell_type": "code",
   "execution_count": 109,
   "metadata": {},
   "outputs": [
    {
     "data": {
      "text/html": [
       "<div>\n",
       "<style scoped>\n",
       "    .dataframe tbody tr th:only-of-type {\n",
       "        vertical-align: middle;\n",
       "    }\n",
       "\n",
       "    .dataframe tbody tr th {\n",
       "        vertical-align: top;\n",
       "    }\n",
       "\n",
       "    .dataframe thead th {\n",
       "        text-align: right;\n",
       "    }\n",
       "</style>\n",
       "<table border=\"1\" class=\"dataframe\">\n",
       "  <thead>\n",
       "    <tr style=\"text-align: right;\">\n",
       "      <th></th>\n",
       "      <th>Motor</th>\n",
       "      <th>Valor</th>\n",
       "    </tr>\n",
       "  </thead>\n",
       "  <tbody>\n",
       "    <tr>\n",
       "      <th>Passat</th>\n",
       "      <td>Motor Diesel</td>\n",
       "      <td>106000.0</td>\n",
       "    </tr>\n",
       "    <tr>\n",
       "      <th>DS5</th>\n",
       "      <td>Motor 2.0</td>\n",
       "      <td>89000.0</td>\n",
       "    </tr>\n",
       "  </tbody>\n",
       "</table>\n",
       "</div>"
      ],
      "text/plain": [
       "               Motor     Valor\n",
       "Passat  Motor Diesel  106000.0\n",
       "DS5        Motor 2.0   89000.0"
      ]
     },
     "execution_count": 109,
     "metadata": {},
     "output_type": "execute_result"
    }
   ],
   "source": [
    "# Fazendo a mesma seleção, mas com o iloc\n",
    "dataset.iloc[[1,3], [0,4]]"
   ]
  },
  {
   "cell_type": "code",
   "execution_count": 110,
   "metadata": {},
   "outputs": [],
   "source": [
    "# Recuperando o dataset\n",
    "dataset = pd.read_csv('dados/db.csv', sep = ';', index_col = 0)"
   ]
  },
  {
   "cell_type": "code",
   "execution_count": 111,
   "metadata": {},
   "outputs": [
    {
     "data": {
      "text/plain": [
       "Nome\n",
       "Jetta Variant                  Motor 4.0 Turbo\n",
       "Passat                            Motor Diesel\n",
       "Crossfox                       Motor Diesel V8\n",
       "DS5                            Motor 2.4 Turbo\n",
       "Aston Martin DB4               Motor 2.4 Turbo\n",
       "                                 ...          \n",
       "Phantom 2013                          Motor V8\n",
       "Cadillac Ciel concept                 Motor V8\n",
       "Classe GLK               Motor 5.0 V8 Bi-Turbo\n",
       "Aston Martin DB5                  Motor Diesel\n",
       "Macan                          Motor Diesel V6\n",
       "Name: Motor, Length: 258, dtype: object"
      ]
     },
     "execution_count": 111,
     "metadata": {},
     "output_type": "execute_result"
    }
   ],
   "source": [
    "dataset.Motor"
   ]
  },
  {
   "cell_type": "code",
   "execution_count": 112,
   "metadata": {},
   "outputs": [],
   "source": [
    "# Fazendo a seleção de apenas os carros que possuem motor diesel \n",
    "selecao = dataset.Motor == 'Motor Diesel'"
   ]
  },
  {
   "cell_type": "code",
   "execution_count": 113,
   "metadata": {},
   "outputs": [
    {
     "data": {
      "text/html": [
       "<div>\n",
       "<style scoped>\n",
       "    .dataframe tbody tr th:only-of-type {\n",
       "        vertical-align: middle;\n",
       "    }\n",
       "\n",
       "    .dataframe tbody tr th {\n",
       "        vertical-align: top;\n",
       "    }\n",
       "\n",
       "    .dataframe thead th {\n",
       "        text-align: right;\n",
       "    }\n",
       "</style>\n",
       "<table border=\"1\" class=\"dataframe\">\n",
       "  <thead>\n",
       "    <tr style=\"text-align: right;\">\n",
       "      <th></th>\n",
       "      <th>Motor</th>\n",
       "      <th>Ano</th>\n",
       "      <th>Quilometragem</th>\n",
       "      <th>Zero_km</th>\n",
       "      <th>Acessórios</th>\n",
       "      <th>Valor</th>\n",
       "    </tr>\n",
       "    <tr>\n",
       "      <th>Nome</th>\n",
       "      <th></th>\n",
       "      <th></th>\n",
       "      <th></th>\n",
       "      <th></th>\n",
       "      <th></th>\n",
       "      <th></th>\n",
       "    </tr>\n",
       "  </thead>\n",
       "  <tbody>\n",
       "    <tr>\n",
       "      <th>Passat</th>\n",
       "      <td>Motor Diesel</td>\n",
       "      <td>1991</td>\n",
       "      <td>5712.0</td>\n",
       "      <td>False</td>\n",
       "      <td>['Central multimídia', 'Teto panorâmico', 'Fre...</td>\n",
       "      <td>106161.94</td>\n",
       "    </tr>\n",
       "    <tr>\n",
       "      <th>Effa Hafei Picape Baú</th>\n",
       "      <td>Motor Diesel</td>\n",
       "      <td>1991</td>\n",
       "      <td>102959.0</td>\n",
       "      <td>False</td>\n",
       "      <td>['Controle de estabilidade', 'Painel digital',...</td>\n",
       "      <td>125684.65</td>\n",
       "    </tr>\n",
       "    <tr>\n",
       "      <th>Sorento</th>\n",
       "      <td>Motor Diesel</td>\n",
       "      <td>2019</td>\n",
       "      <td>NaN</td>\n",
       "      <td>True</td>\n",
       "      <td>['Sensor de chuva', 'Câmera de estacionamento'...</td>\n",
       "      <td>81399.35</td>\n",
       "    </tr>\n",
       "    <tr>\n",
       "      <th>New Fiesta Hatch</th>\n",
       "      <td>Motor Diesel</td>\n",
       "      <td>2017</td>\n",
       "      <td>118895.0</td>\n",
       "      <td>False</td>\n",
       "      <td>['Sensor de estacionamento', 'Travas elétricas...</td>\n",
       "      <td>66007.16</td>\n",
       "    </tr>\n",
       "    <tr>\n",
       "      <th>Kangoo Express</th>\n",
       "      <td>Motor Diesel</td>\n",
       "      <td>2007</td>\n",
       "      <td>29132.0</td>\n",
       "      <td>False</td>\n",
       "      <td>['Bancos de couro', 'Câmbio automático', 'Pilo...</td>\n",
       "      <td>146716.91</td>\n",
       "    </tr>\n",
       "    <tr>\n",
       "      <th>Fit</th>\n",
       "      <td>Motor Diesel</td>\n",
       "      <td>2013</td>\n",
       "      <td>44329.0</td>\n",
       "      <td>False</td>\n",
       "      <td>['Freios ABS', 'Câmera de estacionamento', 'Câ...</td>\n",
       "      <td>77836.23</td>\n",
       "    </tr>\n",
       "    <tr>\n",
       "      <th>Cielo Hatch</th>\n",
       "      <td>Motor Diesel</td>\n",
       "      <td>2019</td>\n",
       "      <td>NaN</td>\n",
       "      <td>True</td>\n",
       "      <td>['Painel digital', 'Central multimídia', 'Câme...</td>\n",
       "      <td>145197.70</td>\n",
       "    </tr>\n",
       "    <tr>\n",
       "      <th>Symbol</th>\n",
       "      <td>Motor Diesel</td>\n",
       "      <td>2016</td>\n",
       "      <td>117714.0</td>\n",
       "      <td>False</td>\n",
       "      <td>['4 X 4', 'Piloto automático', 'Sensor crepusc...</td>\n",
       "      <td>133030.60</td>\n",
       "    </tr>\n",
       "    <tr>\n",
       "      <th>A4 Sedan</th>\n",
       "      <td>Motor Diesel</td>\n",
       "      <td>2002</td>\n",
       "      <td>30511.0</td>\n",
       "      <td>False</td>\n",
       "      <td>['Câmera de estacionamento', '4 X 4', 'Travas ...</td>\n",
       "      <td>96369.04</td>\n",
       "    </tr>\n",
       "    <tr>\n",
       "      <th>A4 Avant</th>\n",
       "      <td>Motor Diesel</td>\n",
       "      <td>2014</td>\n",
       "      <td>17357.0</td>\n",
       "      <td>False</td>\n",
       "      <td>['Teto panorâmico', '4 X 4', 'Bancos de couro'...</td>\n",
       "      <td>138946.88</td>\n",
       "    </tr>\n",
       "    <tr>\n",
       "      <th>Silver Shadow</th>\n",
       "      <td>Motor Diesel</td>\n",
       "      <td>2015</td>\n",
       "      <td>99052.0</td>\n",
       "      <td>False</td>\n",
       "      <td>['4 X 4', 'Central multimídia', 'Ar condiciona...</td>\n",
       "      <td>143568.22</td>\n",
       "    </tr>\n",
       "    <tr>\n",
       "      <th>Camry</th>\n",
       "      <td>Motor Diesel</td>\n",
       "      <td>2019</td>\n",
       "      <td>NaN</td>\n",
       "      <td>True</td>\n",
       "      <td>['Travas elétricas', 'Rodas de liga', 'Sensor ...</td>\n",
       "      <td>138597.27</td>\n",
       "    </tr>\n",
       "    <tr>\n",
       "      <th>Clio</th>\n",
       "      <td>Motor Diesel</td>\n",
       "      <td>1990</td>\n",
       "      <td>66437.0</td>\n",
       "      <td>False</td>\n",
       "      <td>['4 X 4', 'Câmbio automático', 'Freios ABS', '...</td>\n",
       "      <td>111130.33</td>\n",
       "    </tr>\n",
       "    <tr>\n",
       "      <th>Série 3 M3 Coupé</th>\n",
       "      <td>Motor Diesel</td>\n",
       "      <td>2013</td>\n",
       "      <td>19896.0</td>\n",
       "      <td>False</td>\n",
       "      <td>['Bancos de couro', 'Sensor de chuva', 'Ar con...</td>\n",
       "      <td>69219.89</td>\n",
       "    </tr>\n",
       "    <tr>\n",
       "      <th>Gallardo LP 560 – 4</th>\n",
       "      <td>Motor Diesel</td>\n",
       "      <td>2000</td>\n",
       "      <td>113045.0</td>\n",
       "      <td>False</td>\n",
       "      <td>['Freios ABS', 'Teto panorâmico', 'Central mul...</td>\n",
       "      <td>144118.91</td>\n",
       "    </tr>\n",
       "    <tr>\n",
       "      <th>Chana Utility</th>\n",
       "      <td>Motor Diesel</td>\n",
       "      <td>2009</td>\n",
       "      <td>52034.0</td>\n",
       "      <td>False</td>\n",
       "      <td>['Ar condicionado', 'Sensor de estacionamento'...</td>\n",
       "      <td>132662.32</td>\n",
       "    </tr>\n",
       "    <tr>\n",
       "      <th>TT Roadster</th>\n",
       "      <td>Motor Diesel</td>\n",
       "      <td>1998</td>\n",
       "      <td>107392.0</td>\n",
       "      <td>False</td>\n",
       "      <td>['Ar condicionado', 'Sensor de estacionamento'...</td>\n",
       "      <td>85311.40</td>\n",
       "    </tr>\n",
       "    <tr>\n",
       "      <th>Aston Martin Virage</th>\n",
       "      <td>Motor Diesel</td>\n",
       "      <td>2019</td>\n",
       "      <td>NaN</td>\n",
       "      <td>True</td>\n",
       "      <td>['Travas elétricas', 'Controle de tração', 'Câ...</td>\n",
       "      <td>97290.18</td>\n",
       "    </tr>\n",
       "    <tr>\n",
       "      <th>Sandero</th>\n",
       "      <td>Motor Diesel</td>\n",
       "      <td>2015</td>\n",
       "      <td>34783.0</td>\n",
       "      <td>False</td>\n",
       "      <td>['Piloto automático', 'Teto panorâmico', 'Câmb...</td>\n",
       "      <td>112350.61</td>\n",
       "    </tr>\n",
       "    <tr>\n",
       "      <th>XKR</th>\n",
       "      <td>Motor Diesel</td>\n",
       "      <td>1996</td>\n",
       "      <td>85127.0</td>\n",
       "      <td>False</td>\n",
       "      <td>['Controle de tração', 'Ar condicionado', 'Tra...</td>\n",
       "      <td>54263.16</td>\n",
       "    </tr>\n",
       "    <tr>\n",
       "      <th>X5</th>\n",
       "      <td>Motor Diesel</td>\n",
       "      <td>2002</td>\n",
       "      <td>13606.0</td>\n",
       "      <td>False</td>\n",
       "      <td>['Controle de tração', 'Piloto automático', 'T...</td>\n",
       "      <td>62041.32</td>\n",
       "    </tr>\n",
       "    <tr>\n",
       "      <th>Dodge Dakota</th>\n",
       "      <td>Motor Diesel</td>\n",
       "      <td>1993</td>\n",
       "      <td>71544.0</td>\n",
       "      <td>False</td>\n",
       "      <td>['Controle de tração', 'Sensor de estacionamen...</td>\n",
       "      <td>141083.35</td>\n",
       "    </tr>\n",
       "    <tr>\n",
       "      <th>i30 CW</th>\n",
       "      <td>Motor Diesel</td>\n",
       "      <td>2015</td>\n",
       "      <td>8497.0</td>\n",
       "      <td>False</td>\n",
       "      <td>['Sensor de chuva', 'Vidros elétricos', 'Contr...</td>\n",
       "      <td>73311.75</td>\n",
       "    </tr>\n",
       "    <tr>\n",
       "      <th>Série 7 Sedã</th>\n",
       "      <td>Motor Diesel</td>\n",
       "      <td>2019</td>\n",
       "      <td>NaN</td>\n",
       "      <td>True</td>\n",
       "      <td>['Vidros elétricos', 'Travas elétricas', 'Roda...</td>\n",
       "      <td>67539.79</td>\n",
       "    </tr>\n",
       "    <tr>\n",
       "      <th>V60</th>\n",
       "      <td>Motor Diesel</td>\n",
       "      <td>2004</td>\n",
       "      <td>91840.0</td>\n",
       "      <td>False</td>\n",
       "      <td>['Rodas de liga', 'Sensor crepuscular', 'Ar co...</td>\n",
       "      <td>114728.74</td>\n",
       "    </tr>\n",
       "    <tr>\n",
       "      <th>Aston Martin DB5</th>\n",
       "      <td>Motor Diesel</td>\n",
       "      <td>1996</td>\n",
       "      <td>7685.0</td>\n",
       "      <td>False</td>\n",
       "      <td>['Ar condicionado', '4 X 4', 'Câmbio automátic...</td>\n",
       "      <td>122110.90</td>\n",
       "    </tr>\n",
       "  </tbody>\n",
       "</table>\n",
       "</div>"
      ],
      "text/plain": [
       "                              Motor   Ano  Quilometragem  Zero_km  \\\n",
       "Nome                                                                \n",
       "Passat                 Motor Diesel  1991         5712.0    False   \n",
       "Effa Hafei Picape Baú  Motor Diesel  1991       102959.0    False   \n",
       "Sorento                Motor Diesel  2019            NaN     True   \n",
       "New Fiesta Hatch       Motor Diesel  2017       118895.0    False   \n",
       "Kangoo Express         Motor Diesel  2007        29132.0    False   \n",
       "Fit                    Motor Diesel  2013        44329.0    False   \n",
       "Cielo Hatch            Motor Diesel  2019            NaN     True   \n",
       "Symbol                 Motor Diesel  2016       117714.0    False   \n",
       "A4 Sedan               Motor Diesel  2002        30511.0    False   \n",
       "A4 Avant               Motor Diesel  2014        17357.0    False   \n",
       "Silver Shadow          Motor Diesel  2015        99052.0    False   \n",
       "Camry                  Motor Diesel  2019            NaN     True   \n",
       "Clio                   Motor Diesel  1990        66437.0    False   \n",
       "Série 3 M3 Coupé       Motor Diesel  2013        19896.0    False   \n",
       "Gallardo LP 560 – 4    Motor Diesel  2000       113045.0    False   \n",
       "Chana Utility          Motor Diesel  2009        52034.0    False   \n",
       "TT Roadster            Motor Diesel  1998       107392.0    False   \n",
       "Aston Martin Virage    Motor Diesel  2019            NaN     True   \n",
       "Sandero                Motor Diesel  2015        34783.0    False   \n",
       "XKR                    Motor Diesel  1996        85127.0    False   \n",
       "X5                     Motor Diesel  2002        13606.0    False   \n",
       "Dodge Dakota           Motor Diesel  1993        71544.0    False   \n",
       "i30 CW                 Motor Diesel  2015         8497.0    False   \n",
       "Série 7 Sedã           Motor Diesel  2019            NaN     True   \n",
       "V60                    Motor Diesel  2004        91840.0    False   \n",
       "Aston Martin DB5       Motor Diesel  1996         7685.0    False   \n",
       "\n",
       "                                                              Acessórios  \\\n",
       "Nome                                                                       \n",
       "Passat                 ['Central multimídia', 'Teto panorâmico', 'Fre...   \n",
       "Effa Hafei Picape Baú  ['Controle de estabilidade', 'Painel digital',...   \n",
       "Sorento                ['Sensor de chuva', 'Câmera de estacionamento'...   \n",
       "New Fiesta Hatch       ['Sensor de estacionamento', 'Travas elétricas...   \n",
       "Kangoo Express         ['Bancos de couro', 'Câmbio automático', 'Pilo...   \n",
       "Fit                    ['Freios ABS', 'Câmera de estacionamento', 'Câ...   \n",
       "Cielo Hatch            ['Painel digital', 'Central multimídia', 'Câme...   \n",
       "Symbol                 ['4 X 4', 'Piloto automático', 'Sensor crepusc...   \n",
       "A4 Sedan               ['Câmera de estacionamento', '4 X 4', 'Travas ...   \n",
       "A4 Avant               ['Teto panorâmico', '4 X 4', 'Bancos de couro'...   \n",
       "Silver Shadow          ['4 X 4', 'Central multimídia', 'Ar condiciona...   \n",
       "Camry                  ['Travas elétricas', 'Rodas de liga', 'Sensor ...   \n",
       "Clio                   ['4 X 4', 'Câmbio automático', 'Freios ABS', '...   \n",
       "Série 3 M3 Coupé       ['Bancos de couro', 'Sensor de chuva', 'Ar con...   \n",
       "Gallardo LP 560 – 4    ['Freios ABS', 'Teto panorâmico', 'Central mul...   \n",
       "Chana Utility          ['Ar condicionado', 'Sensor de estacionamento'...   \n",
       "TT Roadster            ['Ar condicionado', 'Sensor de estacionamento'...   \n",
       "Aston Martin Virage    ['Travas elétricas', 'Controle de tração', 'Câ...   \n",
       "Sandero                ['Piloto automático', 'Teto panorâmico', 'Câmb...   \n",
       "XKR                    ['Controle de tração', 'Ar condicionado', 'Tra...   \n",
       "X5                     ['Controle de tração', 'Piloto automático', 'T...   \n",
       "Dodge Dakota           ['Controle de tração', 'Sensor de estacionamen...   \n",
       "i30 CW                 ['Sensor de chuva', 'Vidros elétricos', 'Contr...   \n",
       "Série 7 Sedã           ['Vidros elétricos', 'Travas elétricas', 'Roda...   \n",
       "V60                    ['Rodas de liga', 'Sensor crepuscular', 'Ar co...   \n",
       "Aston Martin DB5       ['Ar condicionado', '4 X 4', 'Câmbio automátic...   \n",
       "\n",
       "                           Valor  \n",
       "Nome                              \n",
       "Passat                 106161.94  \n",
       "Effa Hafei Picape Baú  125684.65  \n",
       "Sorento                 81399.35  \n",
       "New Fiesta Hatch        66007.16  \n",
       "Kangoo Express         146716.91  \n",
       "Fit                     77836.23  \n",
       "Cielo Hatch            145197.70  \n",
       "Symbol                 133030.60  \n",
       "A4 Sedan                96369.04  \n",
       "A4 Avant               138946.88  \n",
       "Silver Shadow          143568.22  \n",
       "Camry                  138597.27  \n",
       "Clio                   111130.33  \n",
       "Série 3 M3 Coupé        69219.89  \n",
       "Gallardo LP 560 – 4    144118.91  \n",
       "Chana Utility          132662.32  \n",
       "TT Roadster             85311.40  \n",
       "Aston Martin Virage     97290.18  \n",
       "Sandero                112350.61  \n",
       "XKR                     54263.16  \n",
       "X5                      62041.32  \n",
       "Dodge Dakota           141083.35  \n",
       "i30 CW                  73311.75  \n",
       "Série 7 Sedã            67539.79  \n",
       "V60                    114728.74  \n",
       "Aston Martin DB5       122110.90  "
      ]
     },
     "execution_count": 113,
     "metadata": {},
     "output_type": "execute_result"
    }
   ],
   "source": [
    "# # Fazendo a seleção de apenas os carros que possuem motor diesel e colocando em data frame\n",
    "dataset[selecao]"
   ]
  },
  {
   "cell_type": "code",
   "execution_count": 114,
   "metadata": {},
   "outputs": [
    {
     "data": {
      "text/html": [
       "<div>\n",
       "<style scoped>\n",
       "    .dataframe tbody tr th:only-of-type {\n",
       "        vertical-align: middle;\n",
       "    }\n",
       "\n",
       "    .dataframe tbody tr th {\n",
       "        vertical-align: top;\n",
       "    }\n",
       "\n",
       "    .dataframe thead th {\n",
       "        text-align: right;\n",
       "    }\n",
       "</style>\n",
       "<table border=\"1\" class=\"dataframe\">\n",
       "  <thead>\n",
       "    <tr style=\"text-align: right;\">\n",
       "      <th></th>\n",
       "      <th>Motor</th>\n",
       "      <th>Ano</th>\n",
       "      <th>Quilometragem</th>\n",
       "      <th>Zero_km</th>\n",
       "      <th>Acessórios</th>\n",
       "      <th>Valor</th>\n",
       "    </tr>\n",
       "    <tr>\n",
       "      <th>Nome</th>\n",
       "      <th></th>\n",
       "      <th></th>\n",
       "      <th></th>\n",
       "      <th></th>\n",
       "      <th></th>\n",
       "      <th></th>\n",
       "    </tr>\n",
       "  </thead>\n",
       "  <tbody>\n",
       "    <tr>\n",
       "      <th>Sorento</th>\n",
       "      <td>Motor Diesel</td>\n",
       "      <td>2019</td>\n",
       "      <td>NaN</td>\n",
       "      <td>True</td>\n",
       "      <td>['Sensor de chuva', 'Câmera de estacionamento'...</td>\n",
       "      <td>81399.35</td>\n",
       "    </tr>\n",
       "    <tr>\n",
       "      <th>Cielo Hatch</th>\n",
       "      <td>Motor Diesel</td>\n",
       "      <td>2019</td>\n",
       "      <td>NaN</td>\n",
       "      <td>True</td>\n",
       "      <td>['Painel digital', 'Central multimídia', 'Câme...</td>\n",
       "      <td>145197.70</td>\n",
       "    </tr>\n",
       "    <tr>\n",
       "      <th>Camry</th>\n",
       "      <td>Motor Diesel</td>\n",
       "      <td>2019</td>\n",
       "      <td>NaN</td>\n",
       "      <td>True</td>\n",
       "      <td>['Travas elétricas', 'Rodas de liga', 'Sensor ...</td>\n",
       "      <td>138597.27</td>\n",
       "    </tr>\n",
       "    <tr>\n",
       "      <th>Aston Martin Virage</th>\n",
       "      <td>Motor Diesel</td>\n",
       "      <td>2019</td>\n",
       "      <td>NaN</td>\n",
       "      <td>True</td>\n",
       "      <td>['Travas elétricas', 'Controle de tração', 'Câ...</td>\n",
       "      <td>97290.18</td>\n",
       "    </tr>\n",
       "    <tr>\n",
       "      <th>Série 7 Sedã</th>\n",
       "      <td>Motor Diesel</td>\n",
       "      <td>2019</td>\n",
       "      <td>NaN</td>\n",
       "      <td>True</td>\n",
       "      <td>['Vidros elétricos', 'Travas elétricas', 'Roda...</td>\n",
       "      <td>67539.79</td>\n",
       "    </tr>\n",
       "  </tbody>\n",
       "</table>\n",
       "</div>"
      ],
      "text/plain": [
       "                            Motor   Ano  Quilometragem  Zero_km  \\\n",
       "Nome                                                              \n",
       "Sorento              Motor Diesel  2019            NaN     True   \n",
       "Cielo Hatch          Motor Diesel  2019            NaN     True   \n",
       "Camry                Motor Diesel  2019            NaN     True   \n",
       "Aston Martin Virage  Motor Diesel  2019            NaN     True   \n",
       "Série 7 Sedã         Motor Diesel  2019            NaN     True   \n",
       "\n",
       "                                                            Acessórios  \\\n",
       "Nome                                                                     \n",
       "Sorento              ['Sensor de chuva', 'Câmera de estacionamento'...   \n",
       "Cielo Hatch          ['Painel digital', 'Central multimídia', 'Câme...   \n",
       "Camry                ['Travas elétricas', 'Rodas de liga', 'Sensor ...   \n",
       "Aston Martin Virage  ['Travas elétricas', 'Controle de tração', 'Câ...   \n",
       "Série 7 Sedã         ['Vidros elétricos', 'Travas elétricas', 'Roda...   \n",
       "\n",
       "                         Valor  \n",
       "Nome                            \n",
       "Sorento               81399.35  \n",
       "Cielo Hatch          145197.70  \n",
       "Camry                138597.27  \n",
       "Aston Martin Virage   97290.18  \n",
       "Série 7 Sedã          67539.79  "
      ]
     },
     "execution_count": 114,
     "metadata": {},
     "output_type": "execute_result"
    }
   ],
   "source": [
    "# colocando mais de uma condição na seleção\n",
    "dataset[(dataset.Motor == 'Motor Diesel') & (dataset.Zero_km == True)]"
   ]
  },
  {
   "cell_type": "code",
   "execution_count": 115,
   "metadata": {},
   "outputs": [
    {
     "data": {
      "text/html": [
       "<div>\n",
       "<style scoped>\n",
       "    .dataframe tbody tr th:only-of-type {\n",
       "        vertical-align: middle;\n",
       "    }\n",
       "\n",
       "    .dataframe tbody tr th {\n",
       "        vertical-align: top;\n",
       "    }\n",
       "\n",
       "    .dataframe thead th {\n",
       "        text-align: right;\n",
       "    }\n",
       "</style>\n",
       "<table border=\"1\" class=\"dataframe\">\n",
       "  <thead>\n",
       "    <tr style=\"text-align: right;\">\n",
       "      <th></th>\n",
       "      <th>Motor</th>\n",
       "      <th>Ano</th>\n",
       "      <th>Quilometragem</th>\n",
       "      <th>Zero_km</th>\n",
       "      <th>Acessórios</th>\n",
       "      <th>Valor</th>\n",
       "    </tr>\n",
       "    <tr>\n",
       "      <th>Nome</th>\n",
       "      <th></th>\n",
       "      <th></th>\n",
       "      <th></th>\n",
       "      <th></th>\n",
       "      <th></th>\n",
       "      <th></th>\n",
       "    </tr>\n",
       "  </thead>\n",
       "  <tbody>\n",
       "    <tr>\n",
       "      <th>Sorento</th>\n",
       "      <td>Motor Diesel</td>\n",
       "      <td>2019</td>\n",
       "      <td>NaN</td>\n",
       "      <td>True</td>\n",
       "      <td>['Sensor de chuva', 'Câmera de estacionamento'...</td>\n",
       "      <td>81399.35</td>\n",
       "    </tr>\n",
       "    <tr>\n",
       "      <th>Cielo Hatch</th>\n",
       "      <td>Motor Diesel</td>\n",
       "      <td>2019</td>\n",
       "      <td>NaN</td>\n",
       "      <td>True</td>\n",
       "      <td>['Painel digital', 'Central multimídia', 'Câme...</td>\n",
       "      <td>145197.70</td>\n",
       "    </tr>\n",
       "    <tr>\n",
       "      <th>Camry</th>\n",
       "      <td>Motor Diesel</td>\n",
       "      <td>2019</td>\n",
       "      <td>NaN</td>\n",
       "      <td>True</td>\n",
       "      <td>['Travas elétricas', 'Rodas de liga', 'Sensor ...</td>\n",
       "      <td>138597.27</td>\n",
       "    </tr>\n",
       "    <tr>\n",
       "      <th>Aston Martin Virage</th>\n",
       "      <td>Motor Diesel</td>\n",
       "      <td>2019</td>\n",
       "      <td>NaN</td>\n",
       "      <td>True</td>\n",
       "      <td>['Travas elétricas', 'Controle de tração', 'Câ...</td>\n",
       "      <td>97290.18</td>\n",
       "    </tr>\n",
       "    <tr>\n",
       "      <th>Série 7 Sedã</th>\n",
       "      <td>Motor Diesel</td>\n",
       "      <td>2019</td>\n",
       "      <td>NaN</td>\n",
       "      <td>True</td>\n",
       "      <td>['Vidros elétricos', 'Travas elétricas', 'Roda...</td>\n",
       "      <td>67539.79</td>\n",
       "    </tr>\n",
       "  </tbody>\n",
       "</table>\n",
       "</div>"
      ],
      "text/plain": [
       "                            Motor   Ano  Quilometragem  Zero_km  \\\n",
       "Nome                                                              \n",
       "Sorento              Motor Diesel  2019            NaN     True   \n",
       "Cielo Hatch          Motor Diesel  2019            NaN     True   \n",
       "Camry                Motor Diesel  2019            NaN     True   \n",
       "Aston Martin Virage  Motor Diesel  2019            NaN     True   \n",
       "Série 7 Sedã         Motor Diesel  2019            NaN     True   \n",
       "\n",
       "                                                            Acessórios  \\\n",
       "Nome                                                                     \n",
       "Sorento              ['Sensor de chuva', 'Câmera de estacionamento'...   \n",
       "Cielo Hatch          ['Painel digital', 'Central multimídia', 'Câme...   \n",
       "Camry                ['Travas elétricas', 'Rodas de liga', 'Sensor ...   \n",
       "Aston Martin Virage  ['Travas elétricas', 'Controle de tração', 'Câ...   \n",
       "Série 7 Sedã         ['Vidros elétricos', 'Travas elétricas', 'Roda...   \n",
       "\n",
       "                         Valor  \n",
       "Nome                            \n",
       "Sorento               81399.35  \n",
       "Cielo Hatch          145197.70  \n",
       "Camry                138597.27  \n",
       "Aston Martin Virage   97290.18  \n",
       "Série 7 Sedã          67539.79  "
      ]
     },
     "execution_count": 115,
     "metadata": {},
     "output_type": "execute_result"
    }
   ],
   "source": [
    "# Fazendo a mesma seleção mas em formato de query\n",
    "dataset.query('Motor == \"Motor Diesel\" and Zero_km == True')"
   ]
  },
  {
   "cell_type": "markdown",
   "metadata": {},
   "source": [
    "### Exercicio"
   ]
  },
  {
   "cell_type": "code",
   "execution_count": 116,
   "metadata": {},
   "outputs": [],
   "source": [
    "# Criando Data frame\n",
    "dados = {\n",
    "    'Motor': ['Motor 4.0 Turbo', 'Motor Diesel', 'Motor Diesel V8', 'Motor Diesel', 'Motor 1.6'],\n",
    "    'Ano': [2019, 2003, 1991, 2019, 1990],\n",
    "    'Quilometragem': [0.0, 5712.0, 37123.0, 0.0, 120000.0],\n",
    "    'Zero_km': [True, False, False, True, False],\n",
    "    'Valor': [88000.0, 106000.0, 72000.0, 89000.0, 32000.0]\n",
    "}\n",
    "\n",
    "dataset = pd.DataFrame(dados, index = ['Jetta', 'Passat', 'Crossfox', 'DS5', 'Fusca'])"
   ]
  },
  {
   "cell_type": "code",
   "execution_count": 117,
   "metadata": {},
   "outputs": [
    {
     "data": {
      "text/html": [
       "<div>\n",
       "<style scoped>\n",
       "    .dataframe tbody tr th:only-of-type {\n",
       "        vertical-align: middle;\n",
       "    }\n",
       "\n",
       "    .dataframe tbody tr th {\n",
       "        vertical-align: top;\n",
       "    }\n",
       "\n",
       "    .dataframe thead th {\n",
       "        text-align: right;\n",
       "    }\n",
       "</style>\n",
       "<table border=\"1\" class=\"dataframe\">\n",
       "  <thead>\n",
       "    <tr style=\"text-align: right;\">\n",
       "      <th></th>\n",
       "      <th>Motor</th>\n",
       "      <th>Ano</th>\n",
       "      <th>Quilometragem</th>\n",
       "      <th>Zero_km</th>\n",
       "      <th>Valor</th>\n",
       "    </tr>\n",
       "  </thead>\n",
       "  <tbody>\n",
       "    <tr>\n",
       "      <th>Jetta</th>\n",
       "      <td>Motor 4.0 Turbo</td>\n",
       "      <td>2019</td>\n",
       "      <td>0.0</td>\n",
       "      <td>True</td>\n",
       "      <td>88000.0</td>\n",
       "    </tr>\n",
       "    <tr>\n",
       "      <th>Passat</th>\n",
       "      <td>Motor Diesel</td>\n",
       "      <td>2003</td>\n",
       "      <td>5712.0</td>\n",
       "      <td>False</td>\n",
       "      <td>106000.0</td>\n",
       "    </tr>\n",
       "    <tr>\n",
       "      <th>Crossfox</th>\n",
       "      <td>Motor Diesel V8</td>\n",
       "      <td>1991</td>\n",
       "      <td>37123.0</td>\n",
       "      <td>False</td>\n",
       "      <td>72000.0</td>\n",
       "    </tr>\n",
       "    <tr>\n",
       "      <th>DS5</th>\n",
       "      <td>Motor Diesel</td>\n",
       "      <td>2019</td>\n",
       "      <td>0.0</td>\n",
       "      <td>True</td>\n",
       "      <td>89000.0</td>\n",
       "    </tr>\n",
       "    <tr>\n",
       "      <th>Fusca</th>\n",
       "      <td>Motor 1.6</td>\n",
       "      <td>1990</td>\n",
       "      <td>120000.0</td>\n",
       "      <td>False</td>\n",
       "      <td>32000.0</td>\n",
       "    </tr>\n",
       "  </tbody>\n",
       "</table>\n",
       "</div>"
      ],
      "text/plain": [
       "                    Motor   Ano  Quilometragem  Zero_km     Valor\n",
       "Jetta     Motor 4.0 Turbo  2019            0.0     True   88000.0\n",
       "Passat       Motor Diesel  2003         5712.0    False  106000.0\n",
       "Crossfox  Motor Diesel V8  1991        37123.0    False   72000.0\n",
       "DS5          Motor Diesel  2019            0.0     True   89000.0\n",
       "Fusca           Motor 1.6  1990       120000.0    False   32000.0"
      ]
     },
     "execution_count": 117,
     "metadata": {},
     "output_type": "execute_result"
    }
   ],
   "source": [
    "dataset"
   ]
  },
  {
   "cell_type": "code",
   "execution_count": 118,
   "metadata": {},
   "outputs": [
    {
     "data": {
      "text/html": [
       "<div>\n",
       "<style scoped>\n",
       "    .dataframe tbody tr th:only-of-type {\n",
       "        vertical-align: middle;\n",
       "    }\n",
       "\n",
       "    .dataframe tbody tr th {\n",
       "        vertical-align: top;\n",
       "    }\n",
       "\n",
       "    .dataframe thead th {\n",
       "        text-align: right;\n",
       "    }\n",
       "</style>\n",
       "<table border=\"1\" class=\"dataframe\">\n",
       "  <thead>\n",
       "    <tr style=\"text-align: right;\">\n",
       "      <th></th>\n",
       "      <th>Motor</th>\n",
       "      <th>Ano</th>\n",
       "      <th>Quilometragem</th>\n",
       "      <th>Zero_km</th>\n",
       "      <th>Valor</th>\n",
       "    </tr>\n",
       "  </thead>\n",
       "  <tbody>\n",
       "    <tr>\n",
       "      <th>Jetta</th>\n",
       "      <td>Motor 4.0 Turbo</td>\n",
       "      <td>2019</td>\n",
       "      <td>0.0</td>\n",
       "      <td>True</td>\n",
       "      <td>88000.0</td>\n",
       "    </tr>\n",
       "    <tr>\n",
       "      <th>Passat</th>\n",
       "      <td>Motor Diesel</td>\n",
       "      <td>2003</td>\n",
       "      <td>5712.0</td>\n",
       "      <td>False</td>\n",
       "      <td>106000.0</td>\n",
       "    </tr>\n",
       "    <tr>\n",
       "      <th>DS5</th>\n",
       "      <td>Motor Diesel</td>\n",
       "      <td>2019</td>\n",
       "      <td>0.0</td>\n",
       "      <td>True</td>\n",
       "      <td>89000.0</td>\n",
       "    </tr>\n",
       "  </tbody>\n",
       "</table>\n",
       "</div>"
      ],
      "text/plain": [
       "                  Motor   Ano  Quilometragem  Zero_km     Valor\n",
       "Jetta   Motor 4.0 Turbo  2019            0.0     True   88000.0\n",
       "Passat     Motor Diesel  2003         5712.0    False  106000.0\n",
       "DS5        Motor Diesel  2019            0.0     True   89000.0"
      ]
     },
     "execution_count": 118,
     "metadata": {},
     "output_type": "execute_result"
    }
   ],
   "source": [
    "# Fazendo um filtro com query para fazer algumas seleções no meu dataframe\n",
    "dataset.query('Motor == \"Motor Diesel\" or Motor == \"Motor 4.0 Turbo\"')"
   ]
  },
  {
   "cell_type": "code",
   "execution_count": 119,
   "metadata": {},
   "outputs": [
    {
     "data": {
      "text/html": [
       "<div>\n",
       "<style scoped>\n",
       "    .dataframe tbody tr th:only-of-type {\n",
       "        vertical-align: middle;\n",
       "    }\n",
       "\n",
       "    .dataframe tbody tr th {\n",
       "        vertical-align: top;\n",
       "    }\n",
       "\n",
       "    .dataframe thead th {\n",
       "        text-align: right;\n",
       "    }\n",
       "</style>\n",
       "<table border=\"1\" class=\"dataframe\">\n",
       "  <thead>\n",
       "    <tr style=\"text-align: right;\">\n",
       "      <th></th>\n",
       "      <th>Motor</th>\n",
       "      <th>Ano</th>\n",
       "      <th>Quilometragem</th>\n",
       "      <th>Zero_km</th>\n",
       "      <th>Valor</th>\n",
       "    </tr>\n",
       "  </thead>\n",
       "  <tbody>\n",
       "    <tr>\n",
       "      <th>Jetta</th>\n",
       "      <td>Motor 4.0 Turbo</td>\n",
       "      <td>2019</td>\n",
       "      <td>0.0</td>\n",
       "      <td>True</td>\n",
       "      <td>88000.0</td>\n",
       "    </tr>\n",
       "    <tr>\n",
       "      <th>Passat</th>\n",
       "      <td>Motor Diesel</td>\n",
       "      <td>2003</td>\n",
       "      <td>5712.0</td>\n",
       "      <td>False</td>\n",
       "      <td>106000.0</td>\n",
       "    </tr>\n",
       "    <tr>\n",
       "      <th>DS5</th>\n",
       "      <td>Motor Diesel</td>\n",
       "      <td>2019</td>\n",
       "      <td>0.0</td>\n",
       "      <td>True</td>\n",
       "      <td>89000.0</td>\n",
       "    </tr>\n",
       "  </tbody>\n",
       "</table>\n",
       "</div>"
      ],
      "text/plain": [
       "                  Motor   Ano  Quilometragem  Zero_km     Valor\n",
       "Jetta   Motor 4.0 Turbo  2019            0.0     True   88000.0\n",
       "Passat     Motor Diesel  2003         5712.0    False  106000.0\n",
       "DS5        Motor Diesel  2019            0.0     True   89000.0"
      ]
     },
     "execution_count": 119,
     "metadata": {},
     "output_type": "execute_result"
    }
   ],
   "source": [
    "# Outra forma de fazer a seleção\n",
    "dataset[(dataset.Motor == \"Motor Diesel\") | (dataset.Motor == \"Motor 4.0 Turbo\")]"
   ]
  },
  {
   "cell_type": "code",
   "execution_count": 120,
   "metadata": {},
   "outputs": [
    {
     "data": {
      "text/html": [
       "<div>\n",
       "<style scoped>\n",
       "    .dataframe tbody tr th:only-of-type {\n",
       "        vertical-align: middle;\n",
       "    }\n",
       "\n",
       "    .dataframe tbody tr th {\n",
       "        vertical-align: top;\n",
       "    }\n",
       "\n",
       "    .dataframe thead th {\n",
       "        text-align: right;\n",
       "    }\n",
       "</style>\n",
       "<table border=\"1\" class=\"dataframe\">\n",
       "  <thead>\n",
       "    <tr style=\"text-align: right;\">\n",
       "      <th></th>\n",
       "      <th>Motor</th>\n",
       "      <th>Ano</th>\n",
       "      <th>Quilometragem</th>\n",
       "      <th>Zero_km</th>\n",
       "      <th>Valor</th>\n",
       "    </tr>\n",
       "  </thead>\n",
       "  <tbody>\n",
       "    <tr>\n",
       "      <th>Jetta</th>\n",
       "      <td>Motor 4.0 Turbo</td>\n",
       "      <td>2019</td>\n",
       "      <td>0.0</td>\n",
       "      <td>True</td>\n",
       "      <td>88000.0</td>\n",
       "    </tr>\n",
       "    <tr>\n",
       "      <th>Passat</th>\n",
       "      <td>Motor Diesel</td>\n",
       "      <td>2003</td>\n",
       "      <td>5712.0</td>\n",
       "      <td>False</td>\n",
       "      <td>106000.0</td>\n",
       "    </tr>\n",
       "    <tr>\n",
       "      <th>DS5</th>\n",
       "      <td>Motor Diesel</td>\n",
       "      <td>2019</td>\n",
       "      <td>0.0</td>\n",
       "      <td>True</td>\n",
       "      <td>89000.0</td>\n",
       "    </tr>\n",
       "  </tbody>\n",
       "</table>\n",
       "</div>"
      ],
      "text/plain": [
       "                  Motor   Ano  Quilometragem  Zero_km     Valor\n",
       "Jetta   Motor 4.0 Turbo  2019            0.0     True   88000.0\n",
       "Passat     Motor Diesel  2003         5712.0    False  106000.0\n",
       "DS5        Motor Diesel  2019            0.0     True   89000.0"
      ]
     },
     "execution_count": 120,
     "metadata": {},
     "output_type": "execute_result"
    }
   ],
   "source": [
    "# Mais uma forma de fazer a seleção\n",
    "dataset.query('Motor == \"Motor Diesel\" or Zero_km == True')"
   ]
  },
  {
   "cell_type": "code",
   "execution_count": 121,
   "metadata": {},
   "outputs": [
    {
     "data": {
      "text/html": [
       "<div>\n",
       "<style scoped>\n",
       "    .dataframe tbody tr th:only-of-type {\n",
       "        vertical-align: middle;\n",
       "    }\n",
       "\n",
       "    .dataframe tbody tr th {\n",
       "        vertical-align: top;\n",
       "    }\n",
       "\n",
       "    .dataframe thead th {\n",
       "        text-align: right;\n",
       "    }\n",
       "</style>\n",
       "<table border=\"1\" class=\"dataframe\">\n",
       "  <thead>\n",
       "    <tr style=\"text-align: right;\">\n",
       "      <th></th>\n",
       "      <th>Motor</th>\n",
       "      <th>Ano</th>\n",
       "      <th>Quilometragem</th>\n",
       "      <th>Zero_km</th>\n",
       "      <th>Valor</th>\n",
       "    </tr>\n",
       "  </thead>\n",
       "  <tbody>\n",
       "    <tr>\n",
       "      <th>Jetta</th>\n",
       "      <td>Motor 4.0 Turbo</td>\n",
       "      <td>2019</td>\n",
       "      <td>0.0</td>\n",
       "      <td>True</td>\n",
       "      <td>88000.0</td>\n",
       "    </tr>\n",
       "    <tr>\n",
       "      <th>Passat</th>\n",
       "      <td>Motor Diesel</td>\n",
       "      <td>2003</td>\n",
       "      <td>5712.0</td>\n",
       "      <td>False</td>\n",
       "      <td>106000.0</td>\n",
       "    </tr>\n",
       "    <tr>\n",
       "      <th>DS5</th>\n",
       "      <td>Motor Diesel</td>\n",
       "      <td>2019</td>\n",
       "      <td>0.0</td>\n",
       "      <td>True</td>\n",
       "      <td>89000.0</td>\n",
       "    </tr>\n",
       "  </tbody>\n",
       "</table>\n",
       "</div>"
      ],
      "text/plain": [
       "                  Motor   Ano  Quilometragem  Zero_km     Valor\n",
       "Jetta   Motor 4.0 Turbo  2019            0.0     True   88000.0\n",
       "Passat     Motor Diesel  2003         5712.0    False  106000.0\n",
       "DS5        Motor Diesel  2019            0.0     True   89000.0"
      ]
     },
     "execution_count": 121,
     "metadata": {},
     "output_type": "execute_result"
    }
   ],
   "source": [
    "# O modo Query aceita qualquer forma de operador lógico, ou seja, pode usar o or ou o |\n",
    "dataset.query('Motor == \"Motor Diesel\" | Zero_km == True')"
   ]
  },
  {
   "cell_type": "markdown",
   "metadata": {},
   "source": [
    "### Iterando Data frame"
   ]
  },
  {
   "cell_type": "code",
   "execution_count": 123,
   "metadata": {},
   "outputs": [],
   "source": [
    "# colocando o dataset original novamente \n",
    "dataset = pd.read_csv('dados/db.csv', sep = ';', index_col = 0)"
   ]
  },
  {
   "cell_type": "code",
   "execution_count": 124,
   "metadata": {},
   "outputs": [
    {
     "data": {
      "text/html": [
       "<div>\n",
       "<style scoped>\n",
       "    .dataframe tbody tr th:only-of-type {\n",
       "        vertical-align: middle;\n",
       "    }\n",
       "\n",
       "    .dataframe tbody tr th {\n",
       "        vertical-align: top;\n",
       "    }\n",
       "\n",
       "    .dataframe thead th {\n",
       "        text-align: right;\n",
       "    }\n",
       "</style>\n",
       "<table border=\"1\" class=\"dataframe\">\n",
       "  <thead>\n",
       "    <tr style=\"text-align: right;\">\n",
       "      <th></th>\n",
       "      <th>Motor</th>\n",
       "      <th>Ano</th>\n",
       "      <th>Quilometragem</th>\n",
       "      <th>Zero_km</th>\n",
       "      <th>Acessórios</th>\n",
       "      <th>Valor</th>\n",
       "    </tr>\n",
       "    <tr>\n",
       "      <th>Nome</th>\n",
       "      <th></th>\n",
       "      <th></th>\n",
       "      <th></th>\n",
       "      <th></th>\n",
       "      <th></th>\n",
       "      <th></th>\n",
       "    </tr>\n",
       "  </thead>\n",
       "  <tbody>\n",
       "    <tr>\n",
       "      <th>Jetta Variant</th>\n",
       "      <td>Motor 4.0 Turbo</td>\n",
       "      <td>2003</td>\n",
       "      <td>44410.0</td>\n",
       "      <td>False</td>\n",
       "      <td>['Rodas de liga', 'Travas elétricas', 'Piloto ...</td>\n",
       "      <td>88078.64</td>\n",
       "    </tr>\n",
       "    <tr>\n",
       "      <th>Passat</th>\n",
       "      <td>Motor Diesel</td>\n",
       "      <td>1991</td>\n",
       "      <td>5712.0</td>\n",
       "      <td>False</td>\n",
       "      <td>['Central multimídia', 'Teto panorâmico', 'Fre...</td>\n",
       "      <td>106161.94</td>\n",
       "    </tr>\n",
       "    <tr>\n",
       "      <th>Crossfox</th>\n",
       "      <td>Motor Diesel V8</td>\n",
       "      <td>1990</td>\n",
       "      <td>37123.0</td>\n",
       "      <td>False</td>\n",
       "      <td>['Piloto automático', 'Controle de estabilidad...</td>\n",
       "      <td>72832.16</td>\n",
       "    </tr>\n",
       "    <tr>\n",
       "      <th>DS5</th>\n",
       "      <td>Motor 2.4 Turbo</td>\n",
       "      <td>2019</td>\n",
       "      <td>NaN</td>\n",
       "      <td>True</td>\n",
       "      <td>['Travas elétricas', '4 X 4', 'Vidros elétrico...</td>\n",
       "      <td>124549.07</td>\n",
       "    </tr>\n",
       "    <tr>\n",
       "      <th>Aston Martin DB4</th>\n",
       "      <td>Motor 2.4 Turbo</td>\n",
       "      <td>2006</td>\n",
       "      <td>25757.0</td>\n",
       "      <td>False</td>\n",
       "      <td>['Rodas de liga', '4 X 4', 'Central multimídia...</td>\n",
       "      <td>92612.10</td>\n",
       "    </tr>\n",
       "    <tr>\n",
       "      <th>...</th>\n",
       "      <td>...</td>\n",
       "      <td>...</td>\n",
       "      <td>...</td>\n",
       "      <td>...</td>\n",
       "      <td>...</td>\n",
       "      <td>...</td>\n",
       "    </tr>\n",
       "    <tr>\n",
       "      <th>Phantom 2013</th>\n",
       "      <td>Motor V8</td>\n",
       "      <td>2014</td>\n",
       "      <td>27505.0</td>\n",
       "      <td>False</td>\n",
       "      <td>['Controle de estabilidade', 'Piloto automátic...</td>\n",
       "      <td>51759.58</td>\n",
       "    </tr>\n",
       "    <tr>\n",
       "      <th>Cadillac Ciel concept</th>\n",
       "      <td>Motor V8</td>\n",
       "      <td>1991</td>\n",
       "      <td>29981.0</td>\n",
       "      <td>False</td>\n",
       "      <td>['Bancos de couro', 'Painel digital', 'Sensor ...</td>\n",
       "      <td>51667.06</td>\n",
       "    </tr>\n",
       "    <tr>\n",
       "      <th>Classe GLK</th>\n",
       "      <td>Motor 5.0 V8 Bi-Turbo</td>\n",
       "      <td>2002</td>\n",
       "      <td>52637.0</td>\n",
       "      <td>False</td>\n",
       "      <td>['Rodas de liga', 'Controle de tração', 'Câmbi...</td>\n",
       "      <td>68934.03</td>\n",
       "    </tr>\n",
       "    <tr>\n",
       "      <th>Aston Martin DB5</th>\n",
       "      <td>Motor Diesel</td>\n",
       "      <td>1996</td>\n",
       "      <td>7685.0</td>\n",
       "      <td>False</td>\n",
       "      <td>['Ar condicionado', '4 X 4', 'Câmbio automátic...</td>\n",
       "      <td>122110.90</td>\n",
       "    </tr>\n",
       "    <tr>\n",
       "      <th>Macan</th>\n",
       "      <td>Motor Diesel V6</td>\n",
       "      <td>1992</td>\n",
       "      <td>50188.0</td>\n",
       "      <td>False</td>\n",
       "      <td>['Central multimídia', 'Teto panorâmico', 'Vid...</td>\n",
       "      <td>90381.47</td>\n",
       "    </tr>\n",
       "  </tbody>\n",
       "</table>\n",
       "<p>258 rows × 6 columns</p>\n",
       "</div>"
      ],
      "text/plain": [
       "                                       Motor   Ano  Quilometragem  Zero_km  \\\n",
       "Nome                                                                         \n",
       "Jetta Variant                Motor 4.0 Turbo  2003        44410.0    False   \n",
       "Passat                          Motor Diesel  1991         5712.0    False   \n",
       "Crossfox                     Motor Diesel V8  1990        37123.0    False   \n",
       "DS5                          Motor 2.4 Turbo  2019            NaN     True   \n",
       "Aston Martin DB4             Motor 2.4 Turbo  2006        25757.0    False   \n",
       "...                                      ...   ...            ...      ...   \n",
       "Phantom 2013                        Motor V8  2014        27505.0    False   \n",
       "Cadillac Ciel concept               Motor V8  1991        29981.0    False   \n",
       "Classe GLK             Motor 5.0 V8 Bi-Turbo  2002        52637.0    False   \n",
       "Aston Martin DB5                Motor Diesel  1996         7685.0    False   \n",
       "Macan                        Motor Diesel V6  1992        50188.0    False   \n",
       "\n",
       "                                                              Acessórios  \\\n",
       "Nome                                                                       \n",
       "Jetta Variant          ['Rodas de liga', 'Travas elétricas', 'Piloto ...   \n",
       "Passat                 ['Central multimídia', 'Teto panorâmico', 'Fre...   \n",
       "Crossfox               ['Piloto automático', 'Controle de estabilidad...   \n",
       "DS5                    ['Travas elétricas', '4 X 4', 'Vidros elétrico...   \n",
       "Aston Martin DB4       ['Rodas de liga', '4 X 4', 'Central multimídia...   \n",
       "...                                                                  ...   \n",
       "Phantom 2013           ['Controle de estabilidade', 'Piloto automátic...   \n",
       "Cadillac Ciel concept  ['Bancos de couro', 'Painel digital', 'Sensor ...   \n",
       "Classe GLK             ['Rodas de liga', 'Controle de tração', 'Câmbi...   \n",
       "Aston Martin DB5       ['Ar condicionado', '4 X 4', 'Câmbio automátic...   \n",
       "Macan                  ['Central multimídia', 'Teto panorâmico', 'Vid...   \n",
       "\n",
       "                           Valor  \n",
       "Nome                              \n",
       "Jetta Variant           88078.64  \n",
       "Passat                 106161.94  \n",
       "Crossfox                72832.16  \n",
       "DS5                    124549.07  \n",
       "Aston Martin DB4        92612.10  \n",
       "...                          ...  \n",
       "Phantom 2013            51759.58  \n",
       "Cadillac Ciel concept   51667.06  \n",
       "Classe GLK              68934.03  \n",
       "Aston Martin DB5       122110.90  \n",
       "Macan                   90381.47  \n",
       "\n",
       "[258 rows x 6 columns]"
      ]
     },
     "execution_count": 124,
     "metadata": {},
     "output_type": "execute_result"
    }
   ],
   "source": [
    "dataset"
   ]
  },
  {
   "cell_type": "code",
   "execution_count": 125,
   "metadata": {},
   "outputs": [
    {
     "name": "stdout",
     "output_type": "stream",
     "text": [
      "<class 'pandas.core.frame.DataFrame'>\n",
      "Index: 258 entries, Jetta Variant to Macan\n",
      "Data columns (total 6 columns):\n",
      " #   Column         Non-Null Count  Dtype  \n",
      "---  ------         --------------  -----  \n",
      " 0   Motor          258 non-null    object \n",
      " 1   Ano            258 non-null    int64  \n",
      " 2   Quilometragem  197 non-null    float64\n",
      " 3   Zero_km        258 non-null    bool   \n",
      " 4   Acessórios     258 non-null    object \n",
      " 5   Valor          258 non-null    float64\n",
      "dtypes: bool(1), float64(2), int64(1), object(2)\n",
      "memory usage: 12.3+ KB\n"
     ]
    }
   ],
   "source": [
    "# Informação do dataset, com uma anomalia em Quilometragem que iremos tratar\n",
    "dataset.info()"
   ]
  },
  {
   "cell_type": "code",
   "execution_count": 128,
   "metadata": {},
   "outputs": [
    {
     "data": {
      "text/html": [
       "<div>\n",
       "<style scoped>\n",
       "    .dataframe tbody tr th:only-of-type {\n",
       "        vertical-align: middle;\n",
       "    }\n",
       "\n",
       "    .dataframe tbody tr th {\n",
       "        vertical-align: top;\n",
       "    }\n",
       "\n",
       "    .dataframe thead th {\n",
       "        text-align: right;\n",
       "    }\n",
       "</style>\n",
       "<table border=\"1\" class=\"dataframe\">\n",
       "  <thead>\n",
       "    <tr style=\"text-align: right;\">\n",
       "      <th></th>\n",
       "      <th>Motor</th>\n",
       "      <th>Ano</th>\n",
       "      <th>Quilometragem</th>\n",
       "      <th>Zero_km</th>\n",
       "      <th>Acessórios</th>\n",
       "      <th>Valor</th>\n",
       "      <th>Km_media</th>\n",
       "    </tr>\n",
       "    <tr>\n",
       "      <th>Nome</th>\n",
       "      <th></th>\n",
       "      <th></th>\n",
       "      <th></th>\n",
       "      <th></th>\n",
       "      <th></th>\n",
       "      <th></th>\n",
       "      <th></th>\n",
       "    </tr>\n",
       "  </thead>\n",
       "  <tbody>\n",
       "    <tr>\n",
       "      <th>Jetta Variant</th>\n",
       "      <td>Motor 4.0 Turbo</td>\n",
       "      <td>2003</td>\n",
       "      <td>44410.0</td>\n",
       "      <td>False</td>\n",
       "      <td>['Rodas de liga', 'Travas elétricas', 'Piloto ...</td>\n",
       "      <td>88078.64</td>\n",
       "      <td>2775.625000</td>\n",
       "    </tr>\n",
       "    <tr>\n",
       "      <th>Passat</th>\n",
       "      <td>Motor Diesel</td>\n",
       "      <td>1991</td>\n",
       "      <td>5712.0</td>\n",
       "      <td>False</td>\n",
       "      <td>['Central multimídia', 'Teto panorâmico', 'Fre...</td>\n",
       "      <td>106161.94</td>\n",
       "      <td>204.000000</td>\n",
       "    </tr>\n",
       "    <tr>\n",
       "      <th>Crossfox</th>\n",
       "      <td>Motor Diesel V8</td>\n",
       "      <td>1990</td>\n",
       "      <td>37123.0</td>\n",
       "      <td>False</td>\n",
       "      <td>['Piloto automático', 'Controle de estabilidad...</td>\n",
       "      <td>72832.16</td>\n",
       "      <td>1280.103448</td>\n",
       "    </tr>\n",
       "    <tr>\n",
       "      <th>DS5</th>\n",
       "      <td>Motor 2.4 Turbo</td>\n",
       "      <td>2019</td>\n",
       "      <td>NaN</td>\n",
       "      <td>True</td>\n",
       "      <td>['Travas elétricas', '4 X 4', 'Vidros elétrico...</td>\n",
       "      <td>124549.07</td>\n",
       "      <td>0.000000</td>\n",
       "    </tr>\n",
       "    <tr>\n",
       "      <th>Aston Martin DB4</th>\n",
       "      <td>Motor 2.4 Turbo</td>\n",
       "      <td>2006</td>\n",
       "      <td>25757.0</td>\n",
       "      <td>False</td>\n",
       "      <td>['Rodas de liga', '4 X 4', 'Central multimídia...</td>\n",
       "      <td>92612.10</td>\n",
       "      <td>1981.307692</td>\n",
       "    </tr>\n",
       "    <tr>\n",
       "      <th>...</th>\n",
       "      <td>...</td>\n",
       "      <td>...</td>\n",
       "      <td>...</td>\n",
       "      <td>...</td>\n",
       "      <td>...</td>\n",
       "      <td>...</td>\n",
       "      <td>...</td>\n",
       "    </tr>\n",
       "    <tr>\n",
       "      <th>Phantom 2013</th>\n",
       "      <td>Motor V8</td>\n",
       "      <td>2014</td>\n",
       "      <td>27505.0</td>\n",
       "      <td>False</td>\n",
       "      <td>['Controle de estabilidade', 'Piloto automátic...</td>\n",
       "      <td>51759.58</td>\n",
       "      <td>5501.000000</td>\n",
       "    </tr>\n",
       "    <tr>\n",
       "      <th>Cadillac Ciel concept</th>\n",
       "      <td>Motor V8</td>\n",
       "      <td>1991</td>\n",
       "      <td>29981.0</td>\n",
       "      <td>False</td>\n",
       "      <td>['Bancos de couro', 'Painel digital', 'Sensor ...</td>\n",
       "      <td>51667.06</td>\n",
       "      <td>1070.750000</td>\n",
       "    </tr>\n",
       "    <tr>\n",
       "      <th>Classe GLK</th>\n",
       "      <td>Motor 5.0 V8 Bi-Turbo</td>\n",
       "      <td>2002</td>\n",
       "      <td>52637.0</td>\n",
       "      <td>False</td>\n",
       "      <td>['Rodas de liga', 'Controle de tração', 'Câmbi...</td>\n",
       "      <td>68934.03</td>\n",
       "      <td>3096.294118</td>\n",
       "    </tr>\n",
       "    <tr>\n",
       "      <th>Aston Martin DB5</th>\n",
       "      <td>Motor Diesel</td>\n",
       "      <td>1996</td>\n",
       "      <td>7685.0</td>\n",
       "      <td>False</td>\n",
       "      <td>['Ar condicionado', '4 X 4', 'Câmbio automátic...</td>\n",
       "      <td>122110.90</td>\n",
       "      <td>334.130435</td>\n",
       "    </tr>\n",
       "    <tr>\n",
       "      <th>Macan</th>\n",
       "      <td>Motor Diesel V6</td>\n",
       "      <td>1992</td>\n",
       "      <td>50188.0</td>\n",
       "      <td>False</td>\n",
       "      <td>['Central multimídia', 'Teto panorâmico', 'Vid...</td>\n",
       "      <td>90381.47</td>\n",
       "      <td>1858.814815</td>\n",
       "    </tr>\n",
       "  </tbody>\n",
       "</table>\n",
       "<p>258 rows × 7 columns</p>\n",
       "</div>"
      ],
      "text/plain": [
       "                                       Motor   Ano  Quilometragem  Zero_km  \\\n",
       "Nome                                                                         \n",
       "Jetta Variant                Motor 4.0 Turbo  2003        44410.0    False   \n",
       "Passat                          Motor Diesel  1991         5712.0    False   \n",
       "Crossfox                     Motor Diesel V8  1990        37123.0    False   \n",
       "DS5                          Motor 2.4 Turbo  2019            NaN     True   \n",
       "Aston Martin DB4             Motor 2.4 Turbo  2006        25757.0    False   \n",
       "...                                      ...   ...            ...      ...   \n",
       "Phantom 2013                        Motor V8  2014        27505.0    False   \n",
       "Cadillac Ciel concept               Motor V8  1991        29981.0    False   \n",
       "Classe GLK             Motor 5.0 V8 Bi-Turbo  2002        52637.0    False   \n",
       "Aston Martin DB5                Motor Diesel  1996         7685.0    False   \n",
       "Macan                        Motor Diesel V6  1992        50188.0    False   \n",
       "\n",
       "                                                              Acessórios  \\\n",
       "Nome                                                                       \n",
       "Jetta Variant          ['Rodas de liga', 'Travas elétricas', 'Piloto ...   \n",
       "Passat                 ['Central multimídia', 'Teto panorâmico', 'Fre...   \n",
       "Crossfox               ['Piloto automático', 'Controle de estabilidad...   \n",
       "DS5                    ['Travas elétricas', '4 X 4', 'Vidros elétrico...   \n",
       "Aston Martin DB4       ['Rodas de liga', '4 X 4', 'Central multimídia...   \n",
       "...                                                                  ...   \n",
       "Phantom 2013           ['Controle de estabilidade', 'Piloto automátic...   \n",
       "Cadillac Ciel concept  ['Bancos de couro', 'Painel digital', 'Sensor ...   \n",
       "Classe GLK             ['Rodas de liga', 'Controle de tração', 'Câmbi...   \n",
       "Aston Martin DB5       ['Ar condicionado', '4 X 4', 'Câmbio automátic...   \n",
       "Macan                  ['Central multimídia', 'Teto panorâmico', 'Vid...   \n",
       "\n",
       "                           Valor     Km_media  \n",
       "Nome                                           \n",
       "Jetta Variant           88078.64  2775.625000  \n",
       "Passat                 106161.94   204.000000  \n",
       "Crossfox                72832.16  1280.103448  \n",
       "DS5                    124549.07     0.000000  \n",
       "Aston Martin DB4        92612.10  1981.307692  \n",
       "...                          ...          ...  \n",
       "Phantom 2013            51759.58  5501.000000  \n",
       "Cadillac Ciel concept   51667.06  1070.750000  \n",
       "Classe GLK              68934.03  3096.294118  \n",
       "Aston Martin DB5       122110.90   334.130435  \n",
       "Macan                   90381.47  1858.814815  \n",
       "\n",
       "[258 rows x 7 columns]"
      ]
     },
     "execution_count": 128,
     "metadata": {},
     "output_type": "execute_result"
    }
   ],
   "source": [
    "'''Fazemos uma iteração para desempacotar e colocar em uma nova coluna os valores medios dos km,\n",
    " fazendo assim tambem o tratamento.'''\n",
    "\n",
    "for index, row in dataset.iterrows():\n",
    "    if(2019 - row['Ano'] != 0):\n",
    "        dataset.loc[index, 'Km_media'] = row['Quilometragem']/(2019 - row['Ano'])\n",
    "    else:\n",
    "        dataset.loc[index, 'Km_media'] = 0\n",
    "dataset"
   ]
  },
  {
   "cell_type": "code",
   "execution_count": 129,
   "metadata": {},
   "outputs": [
    {
     "data": {
      "text/plain": [
       "Nome\n",
       "Jetta Variant            False\n",
       "Passat                   False\n",
       "Crossfox                 False\n",
       "DS5                       True\n",
       "Aston Martin DB4         False\n",
       "                         ...  \n",
       "Phantom 2013             False\n",
       "Cadillac Ciel concept    False\n",
       "Classe GLK               False\n",
       "Aston Martin DB5         False\n",
       "Macan                    False\n",
       "Name: Quilometragem, Length: 258, dtype: bool"
      ]
     },
     "execution_count": 129,
     "metadata": {},
     "output_type": "execute_result"
    }
   ],
   "source": [
    "# Fazer um tratamento para os valores NaN de Quilometragem\n",
    "\n",
    "dataset.Quilometragem.isna()"
   ]
  },
  {
   "cell_type": "code",
   "execution_count": 130,
   "metadata": {},
   "outputs": [
    {
     "data": {
      "text/html": [
       "<div>\n",
       "<style scoped>\n",
       "    .dataframe tbody tr th:only-of-type {\n",
       "        vertical-align: middle;\n",
       "    }\n",
       "\n",
       "    .dataframe tbody tr th {\n",
       "        vertical-align: top;\n",
       "    }\n",
       "\n",
       "    .dataframe thead th {\n",
       "        text-align: right;\n",
       "    }\n",
       "</style>\n",
       "<table border=\"1\" class=\"dataframe\">\n",
       "  <thead>\n",
       "    <tr style=\"text-align: right;\">\n",
       "      <th></th>\n",
       "      <th>Motor</th>\n",
       "      <th>Ano</th>\n",
       "      <th>Quilometragem</th>\n",
       "      <th>Zero_km</th>\n",
       "      <th>Acessórios</th>\n",
       "      <th>Valor</th>\n",
       "      <th>Km_media</th>\n",
       "    </tr>\n",
       "    <tr>\n",
       "      <th>Nome</th>\n",
       "      <th></th>\n",
       "      <th></th>\n",
       "      <th></th>\n",
       "      <th></th>\n",
       "      <th></th>\n",
       "      <th></th>\n",
       "      <th></th>\n",
       "    </tr>\n",
       "  </thead>\n",
       "  <tbody>\n",
       "    <tr>\n",
       "      <th>DS5</th>\n",
       "      <td>Motor 2.4 Turbo</td>\n",
       "      <td>2019</td>\n",
       "      <td>NaN</td>\n",
       "      <td>True</td>\n",
       "      <td>['Travas elétricas', '4 X 4', 'Vidros elétrico...</td>\n",
       "      <td>124549.07</td>\n",
       "      <td>0.0</td>\n",
       "    </tr>\n",
       "    <tr>\n",
       "      <th>A5</th>\n",
       "      <td>Motor 4.0 Turbo</td>\n",
       "      <td>2019</td>\n",
       "      <td>NaN</td>\n",
       "      <td>True</td>\n",
       "      <td>['Câmbio automático', 'Câmera de estacionament...</td>\n",
       "      <td>56445.20</td>\n",
       "      <td>0.0</td>\n",
       "    </tr>\n",
       "    <tr>\n",
       "      <th>J5</th>\n",
       "      <td>Motor V6</td>\n",
       "      <td>2019</td>\n",
       "      <td>NaN</td>\n",
       "      <td>True</td>\n",
       "      <td>['Sensor crepuscular', 'Painel digital', 'Roda...</td>\n",
       "      <td>53183.38</td>\n",
       "      <td>0.0</td>\n",
       "    </tr>\n",
       "    <tr>\n",
       "      <th>A3</th>\n",
       "      <td>Motor 1.0 8v</td>\n",
       "      <td>2019</td>\n",
       "      <td>NaN</td>\n",
       "      <td>True</td>\n",
       "      <td>['4 X 4', 'Piloto automático', 'Central multim...</td>\n",
       "      <td>88552.39</td>\n",
       "      <td>0.0</td>\n",
       "    </tr>\n",
       "    <tr>\n",
       "      <th>Série 1 M</th>\n",
       "      <td>Motor V8</td>\n",
       "      <td>2019</td>\n",
       "      <td>NaN</td>\n",
       "      <td>True</td>\n",
       "      <td>['Controle de estabilidade', 'Central multimíd...</td>\n",
       "      <td>94564.40</td>\n",
       "      <td>0.0</td>\n",
       "    </tr>\n",
       "    <tr>\n",
       "      <th>...</th>\n",
       "      <td>...</td>\n",
       "      <td>...</td>\n",
       "      <td>...</td>\n",
       "      <td>...</td>\n",
       "      <td>...</td>\n",
       "      <td>...</td>\n",
       "      <td>...</td>\n",
       "    </tr>\n",
       "    <tr>\n",
       "      <th>Lamborghini Reventón</th>\n",
       "      <td>Motor 4.0 Turbo</td>\n",
       "      <td>2019</td>\n",
       "      <td>NaN</td>\n",
       "      <td>True</td>\n",
       "      <td>['Controle de tração', 'Ar condicionado', 'Cen...</td>\n",
       "      <td>67664.86</td>\n",
       "      <td>0.0</td>\n",
       "    </tr>\n",
       "    <tr>\n",
       "      <th>Benni Mini</th>\n",
       "      <td>Motor V8</td>\n",
       "      <td>2019</td>\n",
       "      <td>NaN</td>\n",
       "      <td>True</td>\n",
       "      <td>['Sensor crepuscular', 'Câmbio automático', 'C...</td>\n",
       "      <td>126247.84</td>\n",
       "      <td>0.0</td>\n",
       "    </tr>\n",
       "    <tr>\n",
       "      <th>Uno</th>\n",
       "      <td>Motor Diesel V6</td>\n",
       "      <td>2019</td>\n",
       "      <td>NaN</td>\n",
       "      <td>True</td>\n",
       "      <td>['Central multimídia', 'Sensor crepuscular', '...</td>\n",
       "      <td>128852.21</td>\n",
       "      <td>0.0</td>\n",
       "    </tr>\n",
       "    <tr>\n",
       "      <th>Santa Fe</th>\n",
       "      <td>Motor 3.0 32v</td>\n",
       "      <td>2019</td>\n",
       "      <td>NaN</td>\n",
       "      <td>True</td>\n",
       "      <td>['Travas elétricas', 'Ar condicionado', '4 X 4...</td>\n",
       "      <td>129415.33</td>\n",
       "      <td>0.0</td>\n",
       "    </tr>\n",
       "    <tr>\n",
       "      <th>XC60</th>\n",
       "      <td>Motor 4.0 Turbo</td>\n",
       "      <td>2019</td>\n",
       "      <td>NaN</td>\n",
       "      <td>True</td>\n",
       "      <td>['Painel digital', 'Piloto automático', 'Centr...</td>\n",
       "      <td>77675.79</td>\n",
       "      <td>0.0</td>\n",
       "    </tr>\n",
       "  </tbody>\n",
       "</table>\n",
       "<p>61 rows × 7 columns</p>\n",
       "</div>"
      ],
      "text/plain": [
       "                                Motor   Ano  Quilometragem  Zero_km  \\\n",
       "Nome                                                                  \n",
       "DS5                   Motor 2.4 Turbo  2019            NaN     True   \n",
       "A5                    Motor 4.0 Turbo  2019            NaN     True   \n",
       "J5                           Motor V6  2019            NaN     True   \n",
       "A3                       Motor 1.0 8v  2019            NaN     True   \n",
       "Série 1 M                    Motor V8  2019            NaN     True   \n",
       "...                               ...   ...            ...      ...   \n",
       "Lamborghini Reventón  Motor 4.0 Turbo  2019            NaN     True   \n",
       "Benni Mini                   Motor V8  2019            NaN     True   \n",
       "Uno                   Motor Diesel V6  2019            NaN     True   \n",
       "Santa Fe                Motor 3.0 32v  2019            NaN     True   \n",
       "XC60                  Motor 4.0 Turbo  2019            NaN     True   \n",
       "\n",
       "                                                             Acessórios  \\\n",
       "Nome                                                                      \n",
       "DS5                   ['Travas elétricas', '4 X 4', 'Vidros elétrico...   \n",
       "A5                    ['Câmbio automático', 'Câmera de estacionament...   \n",
       "J5                    ['Sensor crepuscular', 'Painel digital', 'Roda...   \n",
       "A3                    ['4 X 4', 'Piloto automático', 'Central multim...   \n",
       "Série 1 M             ['Controle de estabilidade', 'Central multimíd...   \n",
       "...                                                                 ...   \n",
       "Lamborghini Reventón  ['Controle de tração', 'Ar condicionado', 'Cen...   \n",
       "Benni Mini            ['Sensor crepuscular', 'Câmbio automático', 'C...   \n",
       "Uno                   ['Central multimídia', 'Sensor crepuscular', '...   \n",
       "Santa Fe              ['Travas elétricas', 'Ar condicionado', '4 X 4...   \n",
       "XC60                  ['Painel digital', 'Piloto automático', 'Centr...   \n",
       "\n",
       "                          Valor  Km_media  \n",
       "Nome                                       \n",
       "DS5                   124549.07       0.0  \n",
       "A5                     56445.20       0.0  \n",
       "J5                     53183.38       0.0  \n",
       "A3                     88552.39       0.0  \n",
       "Série 1 M              94564.40       0.0  \n",
       "...                         ...       ...  \n",
       "Lamborghini Reventón   67664.86       0.0  \n",
       "Benni Mini            126247.84       0.0  \n",
       "Uno                   128852.21       0.0  \n",
       "Santa Fe              129415.33       0.0  \n",
       "XC60                   77675.79       0.0  \n",
       "\n",
       "[61 rows x 7 columns]"
      ]
     },
     "execution_count": 130,
     "metadata": {},
     "output_type": "execute_result"
    }
   ],
   "source": [
    "# Puxando no data frame todos os veiculos que possuem NaN em sua quilometragem\n",
    "dataset[dataset.Quilometragem.isna()]"
   ]
  },
  {
   "cell_type": "code",
   "execution_count": 135,
   "metadata": {},
   "outputs": [],
   "source": [
    "# Aplicando o fillna para preencher todos os arquivos nulos por 0, e colocando o inplace True para ele gravae no dataframe\n",
    "dataset.fillna(0, inplace = True)"
   ]
  },
  {
   "cell_type": "code",
   "execution_count": 136,
   "metadata": {},
   "outputs": [
    {
     "data": {
      "text/html": [
       "<div>\n",
       "<style scoped>\n",
       "    .dataframe tbody tr th:only-of-type {\n",
       "        vertical-align: middle;\n",
       "    }\n",
       "\n",
       "    .dataframe tbody tr th {\n",
       "        vertical-align: top;\n",
       "    }\n",
       "\n",
       "    .dataframe thead th {\n",
       "        text-align: right;\n",
       "    }\n",
       "</style>\n",
       "<table border=\"1\" class=\"dataframe\">\n",
       "  <thead>\n",
       "    <tr style=\"text-align: right;\">\n",
       "      <th></th>\n",
       "      <th>Motor</th>\n",
       "      <th>Ano</th>\n",
       "      <th>Quilometragem</th>\n",
       "      <th>Zero_km</th>\n",
       "      <th>Acessórios</th>\n",
       "      <th>Valor</th>\n",
       "      <th>Km_media</th>\n",
       "    </tr>\n",
       "    <tr>\n",
       "      <th>Nome</th>\n",
       "      <th></th>\n",
       "      <th></th>\n",
       "      <th></th>\n",
       "      <th></th>\n",
       "      <th></th>\n",
       "      <th></th>\n",
       "      <th></th>\n",
       "    </tr>\n",
       "  </thead>\n",
       "  <tbody>\n",
       "    <tr>\n",
       "      <th>Jetta Variant</th>\n",
       "      <td>Motor 4.0 Turbo</td>\n",
       "      <td>2003</td>\n",
       "      <td>44410.0</td>\n",
       "      <td>False</td>\n",
       "      <td>['Rodas de liga', 'Travas elétricas', 'Piloto ...</td>\n",
       "      <td>88078.64</td>\n",
       "      <td>2775.625000</td>\n",
       "    </tr>\n",
       "    <tr>\n",
       "      <th>Passat</th>\n",
       "      <td>Motor Diesel</td>\n",
       "      <td>1991</td>\n",
       "      <td>5712.0</td>\n",
       "      <td>False</td>\n",
       "      <td>['Central multimídia', 'Teto panorâmico', 'Fre...</td>\n",
       "      <td>106161.94</td>\n",
       "      <td>204.000000</td>\n",
       "    </tr>\n",
       "    <tr>\n",
       "      <th>Crossfox</th>\n",
       "      <td>Motor Diesel V8</td>\n",
       "      <td>1990</td>\n",
       "      <td>37123.0</td>\n",
       "      <td>False</td>\n",
       "      <td>['Piloto automático', 'Controle de estabilidad...</td>\n",
       "      <td>72832.16</td>\n",
       "      <td>1280.103448</td>\n",
       "    </tr>\n",
       "    <tr>\n",
       "      <th>DS5</th>\n",
       "      <td>Motor 2.4 Turbo</td>\n",
       "      <td>2019</td>\n",
       "      <td>0.0</td>\n",
       "      <td>True</td>\n",
       "      <td>['Travas elétricas', '4 X 4', 'Vidros elétrico...</td>\n",
       "      <td>124549.07</td>\n",
       "      <td>0.000000</td>\n",
       "    </tr>\n",
       "    <tr>\n",
       "      <th>Aston Martin DB4</th>\n",
       "      <td>Motor 2.4 Turbo</td>\n",
       "      <td>2006</td>\n",
       "      <td>25757.0</td>\n",
       "      <td>False</td>\n",
       "      <td>['Rodas de liga', '4 X 4', 'Central multimídia...</td>\n",
       "      <td>92612.10</td>\n",
       "      <td>1981.307692</td>\n",
       "    </tr>\n",
       "    <tr>\n",
       "      <th>...</th>\n",
       "      <td>...</td>\n",
       "      <td>...</td>\n",
       "      <td>...</td>\n",
       "      <td>...</td>\n",
       "      <td>...</td>\n",
       "      <td>...</td>\n",
       "      <td>...</td>\n",
       "    </tr>\n",
       "    <tr>\n",
       "      <th>Phantom 2013</th>\n",
       "      <td>Motor V8</td>\n",
       "      <td>2014</td>\n",
       "      <td>27505.0</td>\n",
       "      <td>False</td>\n",
       "      <td>['Controle de estabilidade', 'Piloto automátic...</td>\n",
       "      <td>51759.58</td>\n",
       "      <td>5501.000000</td>\n",
       "    </tr>\n",
       "    <tr>\n",
       "      <th>Cadillac Ciel concept</th>\n",
       "      <td>Motor V8</td>\n",
       "      <td>1991</td>\n",
       "      <td>29981.0</td>\n",
       "      <td>False</td>\n",
       "      <td>['Bancos de couro', 'Painel digital', 'Sensor ...</td>\n",
       "      <td>51667.06</td>\n",
       "      <td>1070.750000</td>\n",
       "    </tr>\n",
       "    <tr>\n",
       "      <th>Classe GLK</th>\n",
       "      <td>Motor 5.0 V8 Bi-Turbo</td>\n",
       "      <td>2002</td>\n",
       "      <td>52637.0</td>\n",
       "      <td>False</td>\n",
       "      <td>['Rodas de liga', 'Controle de tração', 'Câmbi...</td>\n",
       "      <td>68934.03</td>\n",
       "      <td>3096.294118</td>\n",
       "    </tr>\n",
       "    <tr>\n",
       "      <th>Aston Martin DB5</th>\n",
       "      <td>Motor Diesel</td>\n",
       "      <td>1996</td>\n",
       "      <td>7685.0</td>\n",
       "      <td>False</td>\n",
       "      <td>['Ar condicionado', '4 X 4', 'Câmbio automátic...</td>\n",
       "      <td>122110.90</td>\n",
       "      <td>334.130435</td>\n",
       "    </tr>\n",
       "    <tr>\n",
       "      <th>Macan</th>\n",
       "      <td>Motor Diesel V6</td>\n",
       "      <td>1992</td>\n",
       "      <td>50188.0</td>\n",
       "      <td>False</td>\n",
       "      <td>['Central multimídia', 'Teto panorâmico', 'Vid...</td>\n",
       "      <td>90381.47</td>\n",
       "      <td>1858.814815</td>\n",
       "    </tr>\n",
       "  </tbody>\n",
       "</table>\n",
       "<p>258 rows × 7 columns</p>\n",
       "</div>"
      ],
      "text/plain": [
       "                                       Motor   Ano  Quilometragem  Zero_km  \\\n",
       "Nome                                                                         \n",
       "Jetta Variant                Motor 4.0 Turbo  2003        44410.0    False   \n",
       "Passat                          Motor Diesel  1991         5712.0    False   \n",
       "Crossfox                     Motor Diesel V8  1990        37123.0    False   \n",
       "DS5                          Motor 2.4 Turbo  2019            0.0     True   \n",
       "Aston Martin DB4             Motor 2.4 Turbo  2006        25757.0    False   \n",
       "...                                      ...   ...            ...      ...   \n",
       "Phantom 2013                        Motor V8  2014        27505.0    False   \n",
       "Cadillac Ciel concept               Motor V8  1991        29981.0    False   \n",
       "Classe GLK             Motor 5.0 V8 Bi-Turbo  2002        52637.0    False   \n",
       "Aston Martin DB5                Motor Diesel  1996         7685.0    False   \n",
       "Macan                        Motor Diesel V6  1992        50188.0    False   \n",
       "\n",
       "                                                              Acessórios  \\\n",
       "Nome                                                                       \n",
       "Jetta Variant          ['Rodas de liga', 'Travas elétricas', 'Piloto ...   \n",
       "Passat                 ['Central multimídia', 'Teto panorâmico', 'Fre...   \n",
       "Crossfox               ['Piloto automático', 'Controle de estabilidad...   \n",
       "DS5                    ['Travas elétricas', '4 X 4', 'Vidros elétrico...   \n",
       "Aston Martin DB4       ['Rodas de liga', '4 X 4', 'Central multimídia...   \n",
       "...                                                                  ...   \n",
       "Phantom 2013           ['Controle de estabilidade', 'Piloto automátic...   \n",
       "Cadillac Ciel concept  ['Bancos de couro', 'Painel digital', 'Sensor ...   \n",
       "Classe GLK             ['Rodas de liga', 'Controle de tração', 'Câmbi...   \n",
       "Aston Martin DB5       ['Ar condicionado', '4 X 4', 'Câmbio automátic...   \n",
       "Macan                  ['Central multimídia', 'Teto panorâmico', 'Vid...   \n",
       "\n",
       "                           Valor     Km_media  \n",
       "Nome                                           \n",
       "Jetta Variant           88078.64  2775.625000  \n",
       "Passat                 106161.94   204.000000  \n",
       "Crossfox                72832.16  1280.103448  \n",
       "DS5                    124549.07     0.000000  \n",
       "Aston Martin DB4        92612.10  1981.307692  \n",
       "...                          ...          ...  \n",
       "Phantom 2013            51759.58  5501.000000  \n",
       "Cadillac Ciel concept   51667.06  1070.750000  \n",
       "Classe GLK              68934.03  3096.294118  \n",
       "Aston Martin DB5       122110.90   334.130435  \n",
       "Macan                   90381.47  1858.814815  \n",
       "\n",
       "[258 rows x 7 columns]"
      ]
     },
     "execution_count": 136,
     "metadata": {},
     "output_type": "execute_result"
    }
   ],
   "source": [
    "dataset"
   ]
  },
  {
   "cell_type": "code",
   "execution_count": 140,
   "metadata": {},
   "outputs": [
    {
     "data": {
      "text/html": [
       "<div>\n",
       "<style scoped>\n",
       "    .dataframe tbody tr th:only-of-type {\n",
       "        vertical-align: middle;\n",
       "    }\n",
       "\n",
       "    .dataframe tbody tr th {\n",
       "        vertical-align: top;\n",
       "    }\n",
       "\n",
       "    .dataframe thead th {\n",
       "        text-align: right;\n",
       "    }\n",
       "</style>\n",
       "<table border=\"1\" class=\"dataframe\">\n",
       "  <thead>\n",
       "    <tr style=\"text-align: right;\">\n",
       "      <th></th>\n",
       "      <th>Motor</th>\n",
       "      <th>Ano</th>\n",
       "      <th>Quilometragem</th>\n",
       "      <th>Zero_km</th>\n",
       "      <th>Acessórios</th>\n",
       "      <th>Valor</th>\n",
       "      <th>Km_media</th>\n",
       "    </tr>\n",
       "    <tr>\n",
       "      <th>Nome</th>\n",
       "      <th></th>\n",
       "      <th></th>\n",
       "      <th></th>\n",
       "      <th></th>\n",
       "      <th></th>\n",
       "      <th></th>\n",
       "      <th></th>\n",
       "    </tr>\n",
       "  </thead>\n",
       "  <tbody>\n",
       "    <tr>\n",
       "      <th>DS5</th>\n",
       "      <td>Motor 2.4 Turbo</td>\n",
       "      <td>2019</td>\n",
       "      <td>0.0</td>\n",
       "      <td>True</td>\n",
       "      <td>['Travas elétricas', '4 X 4', 'Vidros elétrico...</td>\n",
       "      <td>124549.07</td>\n",
       "      <td>0.0</td>\n",
       "    </tr>\n",
       "    <tr>\n",
       "      <th>A5</th>\n",
       "      <td>Motor 4.0 Turbo</td>\n",
       "      <td>2019</td>\n",
       "      <td>0.0</td>\n",
       "      <td>True</td>\n",
       "      <td>['Câmbio automático', 'Câmera de estacionament...</td>\n",
       "      <td>56445.20</td>\n",
       "      <td>0.0</td>\n",
       "    </tr>\n",
       "    <tr>\n",
       "      <th>J5</th>\n",
       "      <td>Motor V6</td>\n",
       "      <td>2019</td>\n",
       "      <td>0.0</td>\n",
       "      <td>True</td>\n",
       "      <td>['Sensor crepuscular', 'Painel digital', 'Roda...</td>\n",
       "      <td>53183.38</td>\n",
       "      <td>0.0</td>\n",
       "    </tr>\n",
       "    <tr>\n",
       "      <th>A3</th>\n",
       "      <td>Motor 1.0 8v</td>\n",
       "      <td>2019</td>\n",
       "      <td>0.0</td>\n",
       "      <td>True</td>\n",
       "      <td>['4 X 4', 'Piloto automático', 'Central multim...</td>\n",
       "      <td>88552.39</td>\n",
       "      <td>0.0</td>\n",
       "    </tr>\n",
       "    <tr>\n",
       "      <th>Série 1 M</th>\n",
       "      <td>Motor V8</td>\n",
       "      <td>2019</td>\n",
       "      <td>0.0</td>\n",
       "      <td>True</td>\n",
       "      <td>['Controle de estabilidade', 'Central multimíd...</td>\n",
       "      <td>94564.40</td>\n",
       "      <td>0.0</td>\n",
       "    </tr>\n",
       "    <tr>\n",
       "      <th>...</th>\n",
       "      <td>...</td>\n",
       "      <td>...</td>\n",
       "      <td>...</td>\n",
       "      <td>...</td>\n",
       "      <td>...</td>\n",
       "      <td>...</td>\n",
       "      <td>...</td>\n",
       "    </tr>\n",
       "    <tr>\n",
       "      <th>Lamborghini Reventón</th>\n",
       "      <td>Motor 4.0 Turbo</td>\n",
       "      <td>2019</td>\n",
       "      <td>0.0</td>\n",
       "      <td>True</td>\n",
       "      <td>['Controle de tração', 'Ar condicionado', 'Cen...</td>\n",
       "      <td>67664.86</td>\n",
       "      <td>0.0</td>\n",
       "    </tr>\n",
       "    <tr>\n",
       "      <th>Benni Mini</th>\n",
       "      <td>Motor V8</td>\n",
       "      <td>2019</td>\n",
       "      <td>0.0</td>\n",
       "      <td>True</td>\n",
       "      <td>['Sensor crepuscular', 'Câmbio automático', 'C...</td>\n",
       "      <td>126247.84</td>\n",
       "      <td>0.0</td>\n",
       "    </tr>\n",
       "    <tr>\n",
       "      <th>Uno</th>\n",
       "      <td>Motor Diesel V6</td>\n",
       "      <td>2019</td>\n",
       "      <td>0.0</td>\n",
       "      <td>True</td>\n",
       "      <td>['Central multimídia', 'Sensor crepuscular', '...</td>\n",
       "      <td>128852.21</td>\n",
       "      <td>0.0</td>\n",
       "    </tr>\n",
       "    <tr>\n",
       "      <th>Santa Fe</th>\n",
       "      <td>Motor 3.0 32v</td>\n",
       "      <td>2019</td>\n",
       "      <td>0.0</td>\n",
       "      <td>True</td>\n",
       "      <td>['Travas elétricas', 'Ar condicionado', '4 X 4...</td>\n",
       "      <td>129415.33</td>\n",
       "      <td>0.0</td>\n",
       "    </tr>\n",
       "    <tr>\n",
       "      <th>XC60</th>\n",
       "      <td>Motor 4.0 Turbo</td>\n",
       "      <td>2019</td>\n",
       "      <td>0.0</td>\n",
       "      <td>True</td>\n",
       "      <td>['Painel digital', 'Piloto automático', 'Centr...</td>\n",
       "      <td>77675.79</td>\n",
       "      <td>0.0</td>\n",
       "    </tr>\n",
       "  </tbody>\n",
       "</table>\n",
       "<p>61 rows × 7 columns</p>\n",
       "</div>"
      ],
      "text/plain": [
       "                                Motor   Ano  Quilometragem  Zero_km  \\\n",
       "Nome                                                                  \n",
       "DS5                   Motor 2.4 Turbo  2019            0.0     True   \n",
       "A5                    Motor 4.0 Turbo  2019            0.0     True   \n",
       "J5                           Motor V6  2019            0.0     True   \n",
       "A3                       Motor 1.0 8v  2019            0.0     True   \n",
       "Série 1 M                    Motor V8  2019            0.0     True   \n",
       "...                               ...   ...            ...      ...   \n",
       "Lamborghini Reventón  Motor 4.0 Turbo  2019            0.0     True   \n",
       "Benni Mini                   Motor V8  2019            0.0     True   \n",
       "Uno                   Motor Diesel V6  2019            0.0     True   \n",
       "Santa Fe                Motor 3.0 32v  2019            0.0     True   \n",
       "XC60                  Motor 4.0 Turbo  2019            0.0     True   \n",
       "\n",
       "                                                             Acessórios  \\\n",
       "Nome                                                                      \n",
       "DS5                   ['Travas elétricas', '4 X 4', 'Vidros elétrico...   \n",
       "A5                    ['Câmbio automático', 'Câmera de estacionament...   \n",
       "J5                    ['Sensor crepuscular', 'Painel digital', 'Roda...   \n",
       "A3                    ['4 X 4', 'Piloto automático', 'Central multim...   \n",
       "Série 1 M             ['Controle de estabilidade', 'Central multimíd...   \n",
       "...                                                                 ...   \n",
       "Lamborghini Reventón  ['Controle de tração', 'Ar condicionado', 'Cen...   \n",
       "Benni Mini            ['Sensor crepuscular', 'Câmbio automático', 'C...   \n",
       "Uno                   ['Central multimídia', 'Sensor crepuscular', '...   \n",
       "Santa Fe              ['Travas elétricas', 'Ar condicionado', '4 X 4...   \n",
       "XC60                  ['Painel digital', 'Piloto automático', 'Centr...   \n",
       "\n",
       "                          Valor  Km_media  \n",
       "Nome                                       \n",
       "DS5                   124549.07       0.0  \n",
       "A5                     56445.20       0.0  \n",
       "J5                     53183.38       0.0  \n",
       "A3                     88552.39       0.0  \n",
       "Série 1 M              94564.40       0.0  \n",
       "...                         ...       ...  \n",
       "Lamborghini Reventón   67664.86       0.0  \n",
       "Benni Mini            126247.84       0.0  \n",
       "Uno                   128852.21       0.0  \n",
       "Santa Fe              129415.33       0.0  \n",
       "XC60                   77675.79       0.0  \n",
       "\n",
       "[61 rows x 7 columns]"
      ]
     },
     "execution_count": 140,
     "metadata": {},
     "output_type": "execute_result"
    }
   ],
   "source": [
    "# Fazendo uma pergunta ao dataset para mostrar todos os que possuem zero quilometragem igual a zero\n",
    "dataset.query('Zero_km == True')"
   ]
  },
  {
   "cell_type": "code",
   "execution_count": 141,
   "metadata": {},
   "outputs": [
    {
     "name": "stdout",
     "output_type": "stream",
     "text": [
      "<class 'pandas.core.frame.DataFrame'>\n",
      "Index: 258 entries, Jetta Variant to Macan\n",
      "Data columns (total 7 columns):\n",
      " #   Column         Non-Null Count  Dtype  \n",
      "---  ------         --------------  -----  \n",
      " 0   Motor          258 non-null    object \n",
      " 1   Ano            258 non-null    int64  \n",
      " 2   Quilometragem  258 non-null    float64\n",
      " 3   Zero_km        258 non-null    bool   \n",
      " 4   Acessórios     258 non-null    object \n",
      " 5   Valor          258 non-null    float64\n",
      " 6   Km_media       258 non-null    float64\n",
      "dtypes: bool(1), float64(3), int64(1), object(2)\n",
      "memory usage: 24.4+ KB\n"
     ]
    }
   ],
   "source": [
    "# Agora todas as linhas e colunas estão devidamente preenchidas\n",
    "dataset.info()"
   ]
  }
 ],
 "metadata": {
  "kernelspec": {
   "display_name": "Python 3",
   "language": "python",
   "name": "python3"
  },
  "language_info": {
   "codemirror_mode": {
    "name": "ipython",
    "version": 3
   },
   "file_extension": ".py",
   "mimetype": "text/x-python",
   "name": "python",
   "nbconvert_exporter": "python",
   "pygments_lexer": "ipython3",
   "version": "3.8.5"
  }
 },
 "nbformat": 4,
 "nbformat_minor": 4
}
